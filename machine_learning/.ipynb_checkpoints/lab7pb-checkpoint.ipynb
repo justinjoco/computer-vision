{
 "cells": [
  {
   "cell_type": "markdown",
   "metadata": {},
   "source": [
    "# ECE 5470 Lab 7: Machine Learning, Part B"
   ]
  },
  {
   "cell_type": "markdown",
   "metadata": {},
   "source": [
    "Justin Joco (jaj263)<br/>\n",
    "Due November 15, 2019<br/>\n",
    "Slip day used: 1<br/>"
   ]
  },
  {
   "cell_type": "code",
   "execution_count": null,
   "metadata": {},
   "outputs": [],
   "source": [
    "import time\n",
    "import io\n",
    "import matplotlib.pyplot as plt\n",
    "import numpy as np\n",
    "from scipy.io.arff import loadarff\n",
    "\n",
    "from sklearn.datasets import get_data_home\n",
    "from sklearn.externals.joblib import Memory\n",
    "from sklearn.neighbors import KNeighborsClassifier\n",
    "from sklearn.neural_network import MLPClassifier\n",
    "from sklearn.svm import SVC\n",
    "from sklearn.model_selection import train_test_split\n",
    "from sklearn.preprocessing import StandardScaler\n",
    "from sklearn.utils import check_random_state\n",
    "from urllib.request import urlopen\n",
    "\n",
    "import warnings\n",
    "warnings.filterwarnings('ignore')"
   ]
  },
  {
   "cell_type": "code",
   "execution_count": null,
   "metadata": {},
   "outputs": [],
   "source": [
    "memory = Memory(get_data_home())\n",
    "@memory.cache()\n",
    "def fetch_mnist():\n",
    "    content = urlopen(\n",
    "        'https://www.openml.org/data/download/52667/mnist_784.arff').read()\n",
    "    data, meta = loadarff(io.StringIO(content.decode('utf8')))\n",
    "    data = data.view([('pixels', '<f8', 784), ('class', '|S1')])\n",
    "    return data['pixels'], data['class']\n",
    "X, y = fetch_mnist()"
   ]
  },
  {
   "cell_type": "code",
   "execution_count": null,
   "metadata": {},
   "outputs": [],
   "source": [
    "X = X / 255.\n",
    "\n",
    "###### NEW  Refromat the the labels to be integers rather than byte arrays\n",
    "y_trans = []\n",
    "for i in range(len(y)):\n",
    "    y_trans.append(int(y[i]))\n",
    "y = np.asarray(y_trans)\n",
    "\n",
    "train_size = 30000\n",
    "test_size = 500\n",
    "print(\"Training size = {}; Test size = {}\".format(train_size, test_size))\n",
    "\n",
    "X_train, X_test = X[:train_size], X[train_size:train_size+test_size]\n",
    "y_train, y_test = y[:train_size], y[train_size:train_size+test_size]"
   ]
  },
  {
   "cell_type": "code",
   "execution_count": null,
   "metadata": {},
   "outputs": [],
   "source": [
    "### Bounus 1: show the first 40 images\n",
    "### ALways a good idea to validate that the data appears as you expect\n",
    "### \n",
    "### for sci-kit learn the images are represented as vectors of 784 elements\n",
    "### currently scaled from 0 to 1\n",
    "\n",
    "for i in range(50):\n",
    "    l1_plot = plt.subplot(5, 10, i + 1)\n",
    "    l1_plot.imshow(255 * X_test[i].reshape(28, 28), interpolation='nearest',\n",
    "                   cmap=plt.cm.gray)\n",
    "    l1_plot.set_xticks(())\n",
    "    l1_plot.set_yticks(())\n",
    "    #l1_plot.set_xlabel('Class %s' % y_test[i].decode())\n",
    "    l1_plot.set_xlabel('%i' % int(y_test[i]))\n",
    "plt.suptitle('Test image Examples')\n",
    "plt.show()"
   ]
  },
  {
   "cell_type": "code",
   "execution_count": null,
   "metadata": {},
   "outputs": [],
   "source": [
    "## Data standardization\n",
    "## by the mean and standared deviation of the training set\n",
    "scaler = StandardScaler()\n",
    "X_train = scaler.fit_transform(X_train)\n",
    "X_test = scaler.transform(X_test)\n"
   ]
  },
  {
   "cell_type": "code",
   "execution_count": null,
   "metadata": {},
   "outputs": [],
   "source": [
    "knn = KNeighborsClassifier(n_neighbors=1)\n",
    "start = time.time()\n",
    "knn.fit(X_train, y_train)\n",
    "end = time.time()\n",
    "\n",
    "print(\"Training time elapsed: {:.4f} minutes\".format((end-start)/60.0))\n",
    "start = time.time()\n",
    "score = knn.score(X_test, y_test)\n",
    "end = time.time()\n",
    "print(\"Test time elapsed: {:.4f} minutes\".format((end-start)/60.0))\n",
    "print(\"Test score 1-NN: %.4f\" % score)"
   ]
  },
  {
   "cell_type": "code",
   "execution_count": null,
   "metadata": {},
   "outputs": [],
   "source": [
    "knn = KNeighborsClassifier(n_neighbors=3)\n",
    "start = time.time()\n",
    "knn.fit(X_train, y_train)\n",
    "end = time.time()\n",
    "print(\"Training time elapsed: {:.4f} minutes\".format((end-start)/60.0))\n",
    "\n",
    "start = time.time()\n",
    "score = knn.score(X_test, y_test)\n",
    "end = time.time()\n",
    "print(\"Test time elapsed: {:.4f} minutes\".format((end-start)/60.0))\n",
    "print(\"Test score 3-NN: %.4f\" % score)"
   ]
  },
  {
   "cell_type": "code",
   "execution_count": null,
   "metadata": {},
   "outputs": [],
   "source": [
    "knn = KNeighborsClassifier(n_neighbors=5)\n",
    "start = time.time()\n",
    "knn.fit(X_train, y_train)\n",
    "end = time.time()\n",
    "print(\"Training time elapsed: {:.4f} minutes\".format((end-start)/60.0))\n",
    "\n",
    "start = time.time()\n",
    "score = knn.score(X_test, y_test)\n",
    "end = time.time()\n",
    "print(\"Test time elapsed: {:.4f} minutes\".format((end-start)/60.0))\n",
    "print(\"Test score 5-NN: %.4f\" % score)"
   ]
  },
  {
   "cell_type": "code",
   "execution_count": null,
   "metadata": {},
   "outputs": [],
   "source": [
    "mlp = MLPClassifier(hidden_layer_sizes=(10,))\n",
    "start = time.time()\n",
    "mlp.fit(X_train, y_train)\n",
    "end = time.time()\n",
    "print(\"Training time elapsed: {:.4f} minutes\".format((end-start)/60.0))\n",
    "\n",
    "start = time.time()\n",
    "score = mlp.score(X_test, y_test)\n",
    "end = time.time()\n",
    "print(\"Test time elapsed: {:.4f} minutes\".format((end-start)/60.0))\n",
    "print(\"Test score MLP, 1 hidden layer: %.4f\" % score)"
   ]
  },
  {
   "cell_type": "code",
   "execution_count": null,
   "metadata": {},
   "outputs": [],
   "source": [
    "mlp = MLPClassifier(hidden_layer_sizes=(10,10))\n",
    "# Train the classifier\n",
    "start = time.time()\n",
    "mlp.fit(X_train, y_train)\n",
    "end = time.time()\n",
    "print(\"Training time elapsed: {:.4f} minutes\".format((end-start)/60.0))\n",
    "\n",
    "start = time.time()\n",
    "score = mlp.score(X_test, y_test)\n",
    "end = time.time()\n",
    "print(\"Test time elapsed: {:.4f} minutes\".format((end-start)/60.0))\n",
    "print(\"Test score MLP, 2 hidden layers: %.4f\" % score)"
   ]
  },
  {
   "cell_type": "code",
   "execution_count": null,
   "metadata": {},
   "outputs": [],
   "source": [
    "svm = SVC(kernel=\"linear\")\n",
    "start = time.time()\n",
    "svm.fit(X_train, y_train)\n",
    "end = time.time()\n",
    "print(\"Training time elapsed: {:.4f} minutes\".format((end-start)/60.0))\n",
    "\n",
    "start = time.time()\n",
    "score = svm.score(X_test, y_test)\n",
    "end = time.time()\n",
    "print(\"Test time elapsed: {:.4f} minutes\".format((end-start)/60.0))\n",
    "print(\"Test score SVM, linear %.4f\" % score)"
   ]
  },
  {
   "cell_type": "code",
   "execution_count": null,
   "metadata": {},
   "outputs": [],
   "source": [
    "svm = SVC(kernel=\"rbf\")\n",
    "start = time.time()\n",
    "svm.fit(X_train, y_train)\n",
    "end = time.time()\n",
    "print(\"Training time elapsed: {:.4f} minutes\".format((end-start)/60.0))\n",
    "\n",
    "start = time.time()\n",
    "score = svm.score(X_test, y_test)\n",
    "end = time.time()\n",
    "print(\"Test time elapsed: {:.4f} minutes\".format((end-start)/60.0))\n",
    "print(\"Test score SVM, radial basis function %.4f\" % score)"
   ]
  },
  {
   "cell_type": "code",
   "execution_count": null,
   "metadata": {},
   "outputs": [],
   "source": [
    "svm = SVC(kernel=\"poly\")\n",
    "start = time.time()\n",
    "svm.fit(X_train, y_train)\n",
    "end = time.time()\n",
    "print(\"Training time elapsed: {:.4f} minutes\".format((end-start)/60.0))\n",
    "\n",
    "start = time.time()\n",
    "score = svm.score(X_test, y_test)\n",
    "end = time.time()\n",
    "print(\"Test time elapsed: {:.4f} minutes\".format((end-start)/60.0))\n",
    "print(\"Test score SVM, polynomial %.4f\" % score)"
   ]
  }
 ],
 "metadata": {
  "kernelspec": {
   "display_name": "Python 3",
   "language": "python",
   "name": "python3"
  },
  "language_info": {
   "codemirror_mode": {
    "name": "ipython",
    "version": 3
   },
   "file_extension": ".py",
   "mimetype": "text/x-python",
   "name": "python",
   "nbconvert_exporter": "python",
   "pygments_lexer": "ipython3",
   "version": "3.6.5"
  }
 },
 "nbformat": 4,
 "nbformat_minor": 2
}
