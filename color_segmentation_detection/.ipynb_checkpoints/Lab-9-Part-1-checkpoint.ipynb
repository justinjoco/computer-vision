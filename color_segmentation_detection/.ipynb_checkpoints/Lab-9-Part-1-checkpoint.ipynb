{
 "cells": [
  {
   "cell_type": "code",
   "execution_count": 1,
   "metadata": {},
   "outputs": [],
   "source": [
    "import numpy as np\n",
    "import torch\n",
    "import torchvision\n",
    "import torchvision.transforms as transforms\n",
    "import torchvision.datasets as datasets\n",
    "from torch.autograd import Variable\n",
    "import matplotlib.pyplot as plt\n",
    "from PIL import Image\n",
    "import os\n",
    "import copy\n",
    "import torch.utils.data as data_utils\n",
    "import requests, zipfile, io\n",
    "import matplotlib.cm as cm\n",
    "from matplotlib.colors import ListedColormap\n",
    "\n",
    "%matplotlib inline"
   ]
  },
  {
   "cell_type": "code",
   "execution_count": 2,
   "metadata": {},
   "outputs": [],
   "source": [
    "url = 'https://www.via.cornell.edu/ece5470/Lab9data1r.zip'\n",
    "r=requests.get(url).content\n",
    "\n",
    "#save data in data dir\n",
    "z = zipfile.ZipFile(io.BytesIO(r))\n",
    "# os.mkdir('data1')\n",
    "z.extractall('./data1')"
   ]
  },
  {
   "cell_type": "code",
   "execution_count": 3,
   "metadata": {},
   "outputs": [
    {
     "data": {
      "text/plain": [
       "'\"\"url = \\'https://www.via.cornell.edu/ece5470/Lab9data2r.zip\\'\\nr=requests.get(url).content\\n\\n#save data in data dir\\nz = zipfile.ZipFile(io.BytesIO(r))\\n# os.mkdir(\\'data1\\')\\nz.extractall(\\'./data2\\')'"
      ]
     },
     "execution_count": 3,
     "metadata": {},
     "output_type": "execute_result"
    }
   ],
   "source": [
    "\"\"\"\"\"url = 'https://www.via.cornell.edu/ece5470/Lab9data2r.zip'\n",
    "r=requests.get(url).content\n",
    "\n",
    "#save data in data dir\n",
    "z = zipfile.ZipFile(io.BytesIO(r))\n",
    "# os.mkdir('data1')\n",
    "z.extractall('./data2')\"\"\""
   ]
  },
  {
   "cell_type": "code",
   "execution_count": 4,
   "metadata": {},
   "outputs": [
    {
     "data": {
      "text/plain": [
       "\"url = 'https://www.via.cornell.edu/ece5470/Lab9data3r.zip'\\nr=requests.get(url).content\\n\\n#save data in data dir\\nz = zipfile.ZipFile(io.BytesIO(r))\\n# os.mkdir('data1')\\nz.extractall('./data3')\""
      ]
     },
     "execution_count": 4,
     "metadata": {},
     "output_type": "execute_result"
    }
   ],
   "source": [
    "\"\"\"url = 'https://www.via.cornell.edu/ece5470/Lab9data3r.zip'\n",
    "r=requests.get(url).content\n",
    "\n",
    "#save data in data dir\n",
    "z = zipfile.ZipFile(io.BytesIO(r))\n",
    "# os.mkdir('data1')\n",
    "z.extractall('./data3')\"\"\""
   ]
  },
  {
   "cell_type": "code",
   "execution_count": 5,
   "metadata": {},
   "outputs": [],
   "source": [
    "url = 'https://www.via.cornell.edu/ece5470/Lab9data1.zip'\n",
    "r=requests.get(url).content\n",
    "\n",
    "#save data in data dir\n",
    "z = zipfile.ZipFile(io.BytesIO(r))\n",
    "# os.mkdir('data1')\n",
    "z.extractall('./data1_color')"
   ]
  },
  {
   "cell_type": "code",
   "execution_count": 6,
   "metadata": {},
   "outputs": [
    {
     "data": {
      "text/plain": [
       "\"url = 'https://www.via.cornell.edu/ece5470/Lab9data2.zip'\\nr=requests.get(url).content\\n\\n#save data in data dir\\nz = zipfile.ZipFile(io.BytesIO(r))\\n# os.mkdir('data1')\\nz.extractall('./data2_color')\""
      ]
     },
     "execution_count": 6,
     "metadata": {},
     "output_type": "execute_result"
    }
   ],
   "source": [
    "\"\"\"url = 'https://www.via.cornell.edu/ece5470/Lab9data2.zip'\n",
    "r=requests.get(url).content\n",
    "\n",
    "#save data in data dir\n",
    "z = zipfile.ZipFile(io.BytesIO(r))\n",
    "# os.mkdir('data1')\n",
    "z.extractall('./data2_color')\"\"\""
   ]
  },
  {
   "cell_type": "code",
   "execution_count": 7,
   "metadata": {},
   "outputs": [
    {
     "data": {
      "text/plain": [
       "\"url = 'https://www.via.cornell.edu/ece5470/Lab9data3.zip'\\nr=requests.get(url).content\\n\\n#save data in data dir\\nz = zipfile.ZipFile(io.BytesIO(r))\\n# os.mkdir('data1')\\nz.extractall('./data3_color')\""
      ]
     },
     "execution_count": 7,
     "metadata": {},
     "output_type": "execute_result"
    }
   ],
   "source": [
    "\"\"\"url = 'https://www.via.cornell.edu/ece5470/Lab9data3.zip'\n",
    "r=requests.get(url).content\n",
    "\n",
    "#save data in data dir\n",
    "z = zipfile.ZipFile(io.BytesIO(r))\n",
    "# os.mkdir('data1')\n",
    "z.extractall('./data3_color')\"\"\""
   ]
  },
  {
   "cell_type": "markdown",
   "metadata": {},
   "source": [
    "# Custom Dataset Loader"
   ]
  },
  {
   "cell_type": "code",
   "execution_count": 8,
   "metadata": {},
   "outputs": [],
   "source": [
    "\"\"\" Custom datatset loader\n",
    "    based on https://github.com/utkuozbulak/pytorch-custom-dataset-examples\n",
    "\"\"\"\n",
    "import pandas as pd\n",
    "import imageio\n",
    "\n",
    "class SimpleDataset():\n",
    "    def __init__(self, data_path, csv_name, transform = None ):\n",
    "        \"\"\"\n",
    "        Args:\n",
    "            data_path (string): path to the folder where images and csv files are located\n",
    "            csv_name (string): name of the csv lablel file\n",
    "            transform: pytorch transforms for transforms and tensor conversion\n",
    "        \"\"\"\n",
    "        # Set path\n",
    "        self.data_path = data_path\n",
    "        \n",
    "        # Read the csv file\n",
    "        self.data_info = pd.read_csv(data_path + csv_name, header=0)\n",
    "       \n",
    "        # First column contains the image paths\n",
    "        self.image_arr = np.asarray(self.data_info.iloc[:, 0])\n",
    "        \n",
    "        # Second column is the labels\n",
    "        self.label_arr = np.asarray(self.data_info.iloc[:, 1])\n",
    "        # Calculate len\n",
    "        self.data_len = len(self.data_info.index)\n",
    "        \n",
    "    def __getitem__(self, index):\n",
    "        # Get image name from the pandas df\n",
    "        single_image_name = self.image_arr[index]\n",
    "        # Open image\n",
    "        a=single_image_name[:-3] + \"png\"\n",
    "        single_image_name=a\n",
    "        img_as_img = imageio.imread(self.data_path + single_image_name)\n",
    "        # Open segmented mask\n",
    "        a = single_image_name[:2] + \"seg\" + single_image_name[2:]\n",
    "        imseg_name = a[:-3] + \"png\"\n",
    "        imgsg_as_img = imageio.imread(self.data_path + imseg_name)\n",
    "        \n",
    "        \n",
    "        # Get label(class) of the image based on the cropped pandas column\n",
    "        single_image_label = self.label_arr[index]\n",
    "        \n",
    "        return (img_as_img, single_image_label, imgsg_as_img)\n",
    "\n",
    "    def __len__(self):\n",
    "        return self.data_len"
   ]
  },
  {
   "cell_type": "markdown",
   "metadata": {},
   "source": [
    "# Segmentation Model for 16x16 Red Images"
   ]
  },
  {
   "cell_type": "code",
   "execution_count": 9,
   "metadata": {},
   "outputs": [
    {
     "name": "stdout",
     "output_type": "stream",
     "text": [
      "Shape of the input image (10000, 16, 16, 3) (10000, 16, 16)\n",
      "Shape of the input image (10000, 3, 16, 16) (10000, 16, 16) (10000,)\n"
     ]
    }
   ],
   "source": [
    "mydata = SimpleDataset( \"./data1/\", \"labels.csv\")\n",
    "\n",
    "#splitting into images and labels \n",
    "X  = []\n",
    "y  = []\n",
    "Xs = []\n",
    "for i in range(len(mydata)):\n",
    "    X.append(mydata[i][0])\n",
    "    y.append((mydata[i][1]))\n",
    "    Xs.append(mydata[i][2])\n",
    "\n",
    "\n",
    "#converting into numpy arrays to enable easy reshaping and other array operations\n",
    "    \n",
    "X  = np.asarray(X)\n",
    "Xs = np.asarray(Xs)\n",
    "print(\"Shape of the input image\", X.shape, Xs.shape)\n",
    "y= np.asarray(y)\n",
    "\n",
    "X  = np.swapaxes(X,1,3)\n",
    "X  = np.swapaxes(X,2,3)\n",
    "print(\"Shape of the input image\", X.shape, Xs.shape,y.shape)"
   ]
  },
  {
   "cell_type": "code",
   "execution_count": 10,
   "metadata": {},
   "outputs": [
    {
     "name": "stdout",
     "output_type": "stream",
     "text": [
      "(500, 3, 16, 16) (500, 16, 16) (500,)\n",
      "(500, 3, 16, 16) (500, 16, 16) (500,)\n",
      "(1000, 3, 16, 16) (1000, 16, 16) (1000,)\n"
     ]
    }
   ],
   "source": [
    "Xtr=X[:500,:,:,:]/255\n",
    "Xstr=Xs[:500,:,:]/255\n",
    "ytr=y[:500]\n",
    "\n",
    "Xval=X[8500:9000,:,:,:]/255 #need to change validation size for 32x32 & 64x64 images\n",
    "Xsval=Xs[8500:9000,:,:]/255\n",
    "yval=y[8500:9000]\n",
    "\n",
    "Xte=X[-1000:,:,:,:]/255 #need to change test size for 32x32 & 64x64 images\n",
    "Xste=Xs[-1000:,:,:]/255\n",
    "yte=y[-1000:]\n",
    "\n",
    "\n",
    "print(Xtr.shape,Xstr.shape,ytr.shape)\n",
    "print(Xval.shape,Xsval.shape,yval.shape)\n",
    "print(Xte.shape,Xste.shape,yte.shape)"
   ]
  },
  {
   "cell_type": "code",
   "execution_count": 11,
   "metadata": {},
   "outputs": [
    {
     "name": "stdout",
     "output_type": "stream",
     "text": [
      "Maximun value of ground truth image: 1.0\n",
      "Minimum value of ground truth image: 0.0\n",
      "Mean value of ground truth image: 0.1530\n"
     ]
    },
    {
     "data": {
      "image/png": "[encoded data removed]",
      "text/plain": [
       "<Figure size 432x288 with 1 Axes>"
      ]
     },
     "metadata": {
      "needs_background": "light"
     },
     "output_type": "display_data"
    },
    {
     "data": {
      "image/png": "[encoded data removed]",
      "text/plain": [
       "<Figure size 432x288 with 1 Axes>"
      ]
     },
     "metadata": {
      "needs_background": "light"
     },
     "output_type": "display_data"
    }
   ],
   "source": [
    "x=np.swapaxes(Xtr,1,3)\n",
    "x=np.swapaxes(x,1,2)\n",
    "plt.title(\"Input image example\")\n",
    "plt.xlabel(\"number:{}\" .format(ytr[0]))\n",
    "plt.imshow(x[0])\n",
    "\n",
    "plt.figure()\n",
    "plt.title(\"Ground truth example\")\n",
    "plt.xlabel(\"number:{}\" .format(ytr[0]))\n",
    "plt.imshow(Xstr[0],cmap='gray')\n",
    "\n",
    "a=np.amax(Xstr)\n",
    "print(\"Maximun value of ground truth image: {}\" .format(a))\n",
    "a=np.amin(Xstr)\n",
    "print(\"Minimum value of ground truth image: {}\" .format(a))\n",
    "a=np.mean(Xstr)\n",
    "print(\"Mean value of ground truth image: {:.4f}\" .format(a))"
   ]
  },
  {
   "cell_type": "code",
   "execution_count": 12,
   "metadata": {},
   "outputs": [
    {
     "name": "stdout",
     "output_type": "stream",
     "text": [
      "Size of inputs: torch.Size([500, 3, 16, 16])\n",
      "Size of ground truth: torch.Size([500, 16, 16])\n",
      "torch.Size([500])\n"
     ]
    }
   ],
   "source": [
    "batch_size = 8\n",
    "'''\n",
    "inputs and segs are your data. \n",
    "'''\n",
    "targets=ytr\n",
    "\n",
    "inputs = torch.from_numpy(Xtr).float()\n",
    "targets = torch.from_numpy(targets).float()\n",
    "segs    = torch.from_numpy(Xstr).float()\n",
    "\n",
    "print('Size of inputs: {}'. format(inputs.shape))\n",
    "print('Size of ground truth: {}'. format(segs.shape))\n",
    "print(targets.shape)\n",
    "\n",
    "# Dataloader\n",
    "trainset = data_utils.TensorDataset(inputs, segs)\n",
    "trainloader = torch.utils.data.DataLoader(trainset, batch_size= batch_size, \n",
    "                                          shuffle=True, drop_last=True)"
   ]
  },
  {
   "cell_type": "code",
   "execution_count": 13,
   "metadata": {},
   "outputs": [
    {
     "name": "stdout",
     "output_type": "stream",
     "text": [
      "Size of inputs: torch.Size([500, 3, 16, 16])\n",
      "Size of ground truth: torch.Size([500, 16, 16])\n",
      "torch.Size([500])\n"
     ]
    }
   ],
   "source": [
    "targets=yval\n",
    "inputs = torch.from_numpy(Xval).float()\n",
    "targets = torch.from_numpy(targets).float()\n",
    "segs    = torch.from_numpy(Xsval).float()\n",
    "\n",
    "print('Size of inputs: {}'. format(inputs.shape))\n",
    "print('Size of ground truth: {}'. format(segs.shape))\n",
    "print(targets.shape)\n",
    "\n",
    "# Dataloader\n",
    "valset = data_utils.TensorDataset(inputs, segs)\n",
    "val_loader = torch.utils.data.DataLoader(valset, batch_size= batch_size, \n",
    "                                          shuffle=False, drop_last=True)"
   ]
  },
  {
   "cell_type": "code",
   "execution_count": 14,
   "metadata": {},
   "outputs": [],
   "source": [
    "import torch \n",
    "import torch.nn as nn\n",
    "import torchvision\n",
    "import torchvision.transforms as transforms\n",
    "import torch.nn.functional as F\n",
    "\n",
    "\"\"\"2D U-net Style\"\"\"\n",
    "class conv_block(nn.Module):\n",
    "    def __init__(self, in_size, out_size, kernel_size=3):\n",
    "        super(conv_block, self).__init__()\n",
    "        \n",
    "        self.conv1 = nn.Conv2d(in_size, out_size, kernel_size= kernel_size, padding=1)\n",
    "        self.bn1 = nn.BatchNorm2d(out_size)\n",
    "        self.activation = F.relu\n",
    "        self.conv2 = nn.Conv2d(out_size, out_size, kernel_size= kernel_size, padding=1)\n",
    "        self.bn2 = nn.BatchNorm2d(out_size)\n",
    "        \n",
    "    def forward(self, x):\n",
    "        out = self.conv1(x)\n",
    "        out = self.bn1(out)\n",
    "        out = self.activation(out)\n",
    "        out = self.conv2(out)\n",
    "        out = self.bn2(out)            \n",
    "        out = self.activation(out)     \n",
    "        return out\n",
    "\n",
    "class up_block(nn.Module):\n",
    "    def __init__(self, in_size, out_size, kernel_size=3):\n",
    "        super(up_block, self).__init__()\n",
    "        \n",
    "        self.conv1 = nn.Conv2d(in_size, out_size, kernel_size= kernel_size, padding=1)\n",
    "        self.bn1 = nn.BatchNorm2d(out_size)\n",
    "        self.activation = F.relu\n",
    "        self.conv2 = nn.Conv2d(out_size, out_size, kernel_size= kernel_size, padding=1)\n",
    "        self.bn2 = nn.BatchNorm2d(out_size)     \n",
    "        \n",
    "    def forward(self, x, skip= None):\n",
    "        #print(\"\")\n",
    "        #print(x.shape)\n",
    "        out = torch.cat([x, skip], 1)\n",
    "        #print(out.shape)\n",
    "        out = self.conv1(out)\n",
    "        out = self.bn1(out)\n",
    "        out = self.activation(out)\n",
    "        out = self.conv2(out)\n",
    "        out = self.bn2(out)            \n",
    "        out = self.activation(out)     \n",
    "        return out   \n",
    "\n",
    "class unet2D(nn.Module):\n",
    "    def __init__(self):\n",
    "        super(unet2D, self).__init__()\n",
    "        self.activation = F.relu\n",
    "        \n",
    "        self.conv_block1 = conv_block(in_size= 3, out_size= 64)\n",
    "        self.conv_block2 = conv_block(in_size= 64, out_size= 128)\n",
    "        self.conv_block3 = conv_block(in_size= 128, out_size= 256)\n",
    "        self.conv_block4 = conv_block(in_size= 256, out_size= 512)\n",
    "        self.conv_block5 = conv_block(in_size= 512, out_size= 1024)\n",
    "        \n",
    "        self.down1 = nn.MaxPool2d(2)\n",
    "        self.down2 = nn.MaxPool2d(2)\n",
    "        self.down3 = nn.MaxPool2d(2)\n",
    "        self.down4 = nn.MaxPool2d(2)\n",
    "\n",
    "        self.up_conv1 = nn.ConvTranspose2d(1024, 512, kernel_size=2, stride=2)\n",
    "        self.up_conv2 = nn.ConvTranspose2d(512,  256, kernel_size=2, stride=2)\n",
    "        self.up_conv3 = nn.ConvTranspose2d(256, 128, kernel_size=2, stride=2)\n",
    "        self.up_conv4 = nn.ConvTranspose2d(128, 64, kernel_size=2, stride=2)\n",
    "        \n",
    "        self.up_block1 = up_block(in_size= 1024, out_size= 512)\n",
    "        self.up_block2 = up_block(in_size= 512, out_size= 256)\n",
    "        self.up_block3 = up_block(in_size= 256, out_size= 128)\n",
    "        self.up_block4 = up_block(in_size= 128, out_size= 64)\n",
    "        \n",
    "        self.final_conv = nn.Conv2d(64, 1, kernel_size= 1, padding=0)\n",
    "    \n",
    "    def forward(self, x):\n",
    "        skipA = self.conv_block1(x)\n",
    "        out = self.down1(skipA)\n",
    "        \n",
    "        skipB = self.conv_block2(out)\n",
    "        out = self.down2(skipB)\n",
    "        \n",
    "        skipC = self.conv_block3(out)\n",
    "        out = self.down3(skipC)\n",
    "        \n",
    "        skipD = self.conv_block4(out)\n",
    "        out = self.down4(skipD)\n",
    "        \n",
    "        out = self.conv_block5(out)\n",
    "        \n",
    "        out = self.up_conv1(out)\n",
    "        out = self.up_block1(out,skip= skipD)\n",
    "        \n",
    "        out = self.up_conv2(out)\n",
    "        out = self.up_block2(out,skip= skipC)        \n",
    "        \n",
    "        out = self.up_conv3(out)\n",
    "        out = self.up_block3(out,skip= skipB)  \n",
    "        \n",
    "        out = self.up_conv4(out)\n",
    "        out = self.up_block4(out,skip= skipA)\n",
    "        \n",
    "        out = self.final_conv(out)\n",
    "        \n",
    "        return F.sigmoid(out)"
   ]
  },
  {
   "cell_type": "code",
   "execution_count": 15,
   "metadata": {},
   "outputs": [],
   "source": [
    "model = unet2D()\n",
    "\n",
    "# Hyper parameters\n",
    "num_epochs = 5   #can increase this value\n",
    "num_classes = 1\n",
    "learning_rate = 0.0001\n",
    "optimizer = torch.optim.Adam(model.parameters(), lr=learning_rate)\n",
    "criterion = nn.BCELoss()"
   ]
  },
  {
   "cell_type": "code",
   "execution_count": 16,
   "metadata": {},
   "outputs": [
    {
     "name": "stderr",
     "output_type": "stream",
     "text": [
      "C:\\Users\\kvija\\Anaconda3\\envs\\tensorflow\\lib\\site-packages\\torch\\nn\\functional.py:1351: UserWarning: nn.functional.sigmoid is deprecated. Use torch.sigmoid instead.\n",
      "  warnings.warn(\"nn.functional.sigmoid is deprecated. Use torch.sigmoid instead.\")\n"
     ]
    },
    {
     "name": "stdout",
     "output_type": "stream",
     "text": [
      "Epoch [1/5], Step [31/62], TrLoss: 0.3237, TrDice: 0.8593\n",
      "Epoch [1/5], Step [62/62], TrLoss: 0.2477, TrDice: 0.9856\n"
     ]
    },
    {
     "name": "stderr",
     "output_type": "stream",
     "text": [
      "C:\\Users\\kvija\\Anaconda3\\envs\\tensorflow\\lib\\site-packages\\ipykernel_launcher.py:39: UserWarning: volatile was removed and now has no effect. Use `with torch.no_grad():` instead.\n"
     ]
    },
    {
     "name": "stdout",
     "output_type": "stream",
     "text": [
      "Epoch [1/5], Step [31/62], ValLoss: 0.2915, ValDice: 0.8919\n",
      "Epoch [1/5], Step [62/62], ValLoss: 0.2604, ValDice: 0.9609\n",
      "Epoch [2/5], Step [31/62], TrLoss: 0.2287, TrDice: 0.9675\n",
      "Epoch [2/5], Step [62/62], TrLoss: 0.1856, TrDice: 0.9972\n",
      "Epoch [2/5], Step [31/62], ValLoss: 0.2065, ValDice: 0.9821\n",
      "Epoch [2/5], Step [62/62], ValLoss: 0.1942, ValDice: 0.9968\n",
      "Epoch [3/5], Step [31/62], TrLoss: 0.1750, TrDice: 1.0000\n",
      "Epoch [3/5], Step [62/62], TrLoss: 0.1696, TrDice: 0.9983\n",
      "Epoch [3/5], Step [31/62], ValLoss: 0.1733, ValDice: 0.9967\n",
      "Epoch [3/5], Step [62/62], ValLoss: 0.1673, ValDice: 0.9951\n",
      "Epoch [4/5], Step [31/62], TrLoss: 0.1455, TrDice: 1.0000\n",
      "Epoch [4/5], Step [62/62], TrLoss: 0.1623, TrDice: 0.9736\n",
      "Epoch [4/5], Step [31/62], ValLoss: 0.1580, ValDice: 0.9901\n",
      "Epoch [4/5], Step [62/62], ValLoss: 0.1478, ValDice: 1.0000\n",
      "Epoch [5/5], Step [31/62], TrLoss: 0.1379, TrDice: 1.0000\n",
      "Epoch [5/5], Step [62/62], TrLoss: 0.1333, TrDice: 1.0000\n",
      "Epoch [5/5], Step [31/62], ValLoss: 0.1381, ValDice: 0.9918\n",
      "Epoch [5/5], Step [62/62], ValLoss: 0.1290, ValDice: 0.9968\n"
     ]
    }
   ],
   "source": [
    "total_step = len(trainloader)\n",
    "resultstr = []\n",
    "resultsval = []\n",
    "for epoch in range(num_epochs):\n",
    "    for i, (images, labels) in enumerate(trainloader):\n",
    "        model.train()\n",
    "        images = Variable(images)\n",
    "        blabels1 = labels\n",
    "        nlab=blabels1.view(-1,1,16,16)\n",
    "        labels = Variable(nlab).type(torch.FloatTensor)\n",
    "        \n",
    "        # Forward pass\n",
    "        outputs = model(images)\n",
    "        loss = criterion(outputs, labels)\n",
    "        \n",
    "        #Calcualte Dice coefficient\n",
    "        out=outputs.data.numpy()\n",
    "        out=np.reshape(out,(-1,16,16))\n",
    "        out1=copy.deepcopy(out)\n",
    "        out1[out1>0.5]=1\n",
    "        out1[out1<=0.5]=0\n",
    "        lab=labels.data.numpy()\n",
    "        lab=np.reshape(lab,(-1,16,16))\n",
    "        dice = np.sum(out1[lab==1])*2.0 / (np.sum(out1) + np.sum(lab))\n",
    "\n",
    "        \n",
    "        # Backward and optimize\n",
    "        optimizer.zero_grad()\n",
    "        loss.backward()\n",
    "        optimizer.step()\n",
    "        if (i+1) % 31 == 0:\n",
    "            print ('Epoch [{}/{}], Step [{}/{}], TrLoss: {:.4f}, TrDice: {:.4f}' \n",
    "                   .format(epoch+1,num_epochs,i+1, total_step, loss.data, dice))\n",
    "    resultstr.append([loss.data,dice]) # keep them for further processing\n",
    "\n",
    "    #Do validation\n",
    "    for i, (images, labels) in enumerate(val_loader):\n",
    "        model.eval()\n",
    "        images = Variable(images,volatile=True)\n",
    "        blabels1 = labels\n",
    "        nlab=blabels1.view(-1,1,16,16)\n",
    "        labels = Variable(nlab).type(torch.FloatTensor)\n",
    "         \n",
    "        # Forward pass\n",
    "        outputs = model(images)\n",
    "        loss = criterion(outputs, labels)\n",
    "    \n",
    "        #Calcualte Dice coefficient\n",
    "        out=outputs.data.numpy()\n",
    "        out=np.reshape(out,(-1,16,16))\n",
    "        out1=copy.deepcopy(out)\n",
    "        out1[out1>0.5]=1\n",
    "        out1[out1<=0.5]=0\n",
    "        lab=labels.data.numpy()\n",
    "        lab=np.reshape(lab,(-1,16,16))\n",
    "        dice = np.sum(out1[lab==1])*2.0 / (np.sum(out1) + np.sum(lab))\n",
    "        \n",
    "        if (i+1) % 31 == 0:\n",
    "            print ('Epoch [{}/{}], Step [{}/{}], ValLoss: {:.4f}, ValDice: {:.4f}' \n",
    "                   .format(epoch+1,num_epochs,i+1, total_step, loss.data, dice))\n",
    "    resultsval.append([loss.data,dice]) "
   ]
  },
  {
   "cell_type": "code",
   "execution_count": 17,
   "metadata": {},
   "outputs": [
    {
     "name": "stderr",
     "output_type": "stream",
     "text": [
      "C:\\Users\\kvija\\Anaconda3\\envs\\tensorflow\\lib\\site-packages\\torch\\serialization.py:292: UserWarning: Couldn't retrieve source code for container of type unet2D. It won't be checked for correctness upon loading.\n",
      "  \"type \" + obj.__name__ + \". It won't be checked \"\n",
      "C:\\Users\\kvija\\Anaconda3\\envs\\tensorflow\\lib\\site-packages\\torch\\serialization.py:292: UserWarning: Couldn't retrieve source code for container of type conv_block. It won't be checked for correctness upon loading.\n",
      "  \"type \" + obj.__name__ + \". It won't be checked \"\n",
      "C:\\Users\\kvija\\Anaconda3\\envs\\tensorflow\\lib\\site-packages\\torch\\serialization.py:292: UserWarning: Couldn't retrieve source code for container of type Conv2d. It won't be checked for correctness upon loading.\n",
      "  \"type \" + obj.__name__ + \". It won't be checked \"\n",
      "C:\\Users\\kvija\\Anaconda3\\envs\\tensorflow\\lib\\site-packages\\torch\\serialization.py:292: UserWarning: Couldn't retrieve source code for container of type BatchNorm2d. It won't be checked for correctness upon loading.\n",
      "  \"type \" + obj.__name__ + \". It won't be checked \"\n",
      "C:\\Users\\kvija\\Anaconda3\\envs\\tensorflow\\lib\\site-packages\\torch\\serialization.py:292: UserWarning: Couldn't retrieve source code for container of type MaxPool2d. It won't be checked for correctness upon loading.\n",
      "  \"type \" + obj.__name__ + \". It won't be checked \"\n",
      "C:\\Users\\kvija\\Anaconda3\\envs\\tensorflow\\lib\\site-packages\\torch\\serialization.py:292: UserWarning: Couldn't retrieve source code for container of type ConvTranspose2d. It won't be checked for correctness upon loading.\n",
      "  \"type \" + obj.__name__ + \". It won't be checked \"\n",
      "C:\\Users\\kvija\\Anaconda3\\envs\\tensorflow\\lib\\site-packages\\torch\\serialization.py:292: UserWarning: Couldn't retrieve source code for container of type up_block. It won't be checked for correctness upon loading.\n",
      "  \"type \" + obj.__name__ + \". It won't be checked \"\n"
     ]
    }
   ],
   "source": [
    "torch.save(model, 'unet1')"
   ]
  },
  {
   "cell_type": "code",
   "execution_count": 18,
   "metadata": {},
   "outputs": [
    {
     "data": {
      "image/png": "[encoded data removed]",
      "text/plain": [
       "<Figure size 432x288 with 1 Axes>"
      ]
     },
     "metadata": {
      "needs_background": "light"
     },
     "output_type": "display_data"
    }
   ],
   "source": [
    "resultsval=np.array(resultsval)\n",
    "resultstr=np.array(resultstr)\n",
    "\n",
    "valdice=resultsval[:,1]\n",
    "valloss=resultsval[:,0]\n",
    "trdice=resultstr[:,1]\n",
    "trloss=resultstr[:,0]\n",
    "x=np.arange(1, len(valdice)+1, 1)\n",
    "plt.plot(x,valdice)\n",
    "plt.plot(x,trdice)\n",
    "plt.ylabel('Dice coefficient')\n",
    "plt.xlabel('epoch')\n",
    "plt.legend(['validation', 'train'], loc='lower right')\n",
    "plt.title('Model Dice coefficient')\n",
    "plt.show()"
   ]
  },
  {
   "cell_type": "code",
   "execution_count": 19,
   "metadata": {},
   "outputs": [
    {
     "data": {
      "image/png": "[encoded data removed]",
      "text/plain": [
       "<Figure size 432x288 with 2 Axes>"
      ]
     },
     "metadata": {
      "needs_background": "light"
     },
     "output_type": "display_data"
    }
   ],
   "source": [
    "from matplotlib.ticker import (MultipleLocator)\n",
    "\n",
    "x=np.arange(1, len(valdice)+1, 1)\n",
    "fig, ax1=plt.subplots()\n",
    "\n",
    "color='tab:red'\n",
    "ax1.set_ylabel('loss', color=color,fontsize=13)\n",
    "ax1.plot(x,valloss,color=color)\n",
    "ax1.plot(x,trloss, color=color,linestyle='dashed')\n",
    "ax1.tick_params(axis='y', labelcolor=color)\n",
    "ax1.xaxis.set_major_locator(MultipleLocator(1))\n",
    "plt.xlabel('epoch', fontsize=13)\n",
    "plt.legend(['(solid) validation loss', '(dashed) train loss'], loc='best', handletextpad=0,\n",
    "           handlelength=0, fontsize=13)\n",
    "plt.title('Model loss & dice coefficient')\n",
    "\n",
    "color='tab:blue'\n",
    "ax2=ax1.twinx()\n",
    "ax2.set_ylabel('dice coefficient', color=color, fontsize=13)\n",
    "ax2.plot(x,valdice,color=color)\n",
    "ax2.plot(x,trdice,color=color,linestyle='dashed')\n",
    "ax2.tick_params(axis='y', labelcolor=color)\n",
    "\n",
    "plt.show()"
   ]
  },
  {
   "cell_type": "markdown",
   "metadata": {},
   "source": [
    "# Test Segmentation Model for 16x16 Red Images"
   ]
  },
  {
   "cell_type": "code",
   "execution_count": null,
   "metadata": {},
   "outputs": [],
   "source": []
  },
  {
   "cell_type": "markdown",
   "metadata": {},
   "source": [
    "# Classification Model for 16x16 Red Images"
   ]
  },
  {
   "cell_type": "code",
   "execution_count": 64,
   "metadata": {},
   "outputs": [
    {
     "name": "stdout",
     "output_type": "stream",
     "text": [
      "Size of inputs: torch.Size([500, 3, 16, 16])\n",
      "Size of ground truth: torch.Size([500, 16, 16])\n",
      "torch.Size([500])\n"
     ]
    }
   ],
   "source": [
    "batch_size = 8\n",
    "\n",
    "import torch \n",
    "import torch.nn as nn\n",
    "import torchvision\n",
    "import torchvision.transforms as transforms\n",
    "\n",
    "\n",
    "# Device configuration\n",
    "device = torch.device('cuda:0' if torch.cuda.is_available() else 'cpu')\n",
    "\n",
    "# Hyper parameters\n",
    "num_epochs = 10\n",
    "num_classes = 10\n",
    "learning_rate = 0.001\n",
    "\n",
    "'''\n",
    "inputs and segs are your data. \n",
    "'''\n",
    "targets=ytr\n",
    "\n",
    "inputs = torch.from_numpy(Xtr).float()\n",
    "targets = torch.from_numpy(targets).float()\n",
    "segs    = torch.from_numpy(Xstr).float()\n",
    "\n",
    "print('Size of inputs: {}'. format(inputs.shape))\n",
    "print('Size of ground truth: {}'. format(segs.shape))\n",
    "print(targets.shape)\n",
    "\n",
    "# Dataloader\n",
    "trainset = data_utils.TensorDataset(inputs, segs, targets)\n",
    "trainloader = torch.utils.data.DataLoader(trainset, batch_size= batch_size, \n",
    "                                          shuffle=True, drop_last=True)"
   ]
  },
  {
   "cell_type": "code",
   "execution_count": null,
   "metadata": {},
   "outputs": [],
   "source": []
  },
  {
   "cell_type": "code",
   "execution_count": 65,
   "metadata": {},
   "outputs": [],
   "source": [
    "# Convolutional neural network (two convolutional layers)\n",
    "class ConvNet(nn.Module):\n",
    "    def __init__(self, num_classes=10):\n",
    "        super(ConvNet, self).__init__()\n",
    "        self.layer1 = nn.Sequential(\n",
    "            nn.Conv2d(3, 16, kernel_size=5, stride=1, padding=2),\n",
    "            nn.BatchNorm2d(16),\n",
    "            nn.ReLU(),\n",
    "            nn.MaxPool2d(kernel_size=2, stride=2))\n",
    "        self.layer2 = nn.Sequential(\n",
    "            nn.Conv2d(16, 32, kernel_size=5, stride=1, padding=2),\n",
    "            nn.BatchNorm2d(32),\n",
    "            nn.ReLU(),\n",
    "            nn.MaxPool2d(kernel_size=2, stride=2))\n",
    "        self.fc = nn.Linear(4*4*32, num_classes)\n",
    "        \n",
    "    def forward(self, x):\n",
    "        out = self.layer1(x)\n",
    "        out = self.layer2(out)\n",
    "        out = out.reshape(out.size(0), -1)\n",
    "        out = self.fc(out)\n",
    "        return out\n",
    "    "
   ]
  },
  {
   "cell_type": "code",
   "execution_count": 66,
   "metadata": {},
   "outputs": [],
   "source": [
    "model_class = ConvNet(num_classes=10).to(device)\n",
    "# Loss and optimizer\n",
    "criterion = nn.CrossEntropyLoss()\n",
    "optimizer = torch.optim.Adam(model_class.parameters(), lr=learning_rate)"
   ]
  },
  {
   "cell_type": "code",
   "execution_count": 67,
   "metadata": {},
   "outputs": [
    {
     "name": "stdout",
     "output_type": "stream",
     "text": [
      "Epoch [1/10], Step [31/62], Loss: 1.9608\n",
      "Epoch [1/10], Step [62/62], Loss: 2.0663\n",
      "Epoch [2/10], Step [31/62], Loss: 1.6892\n",
      "Epoch [2/10], Step [62/62], Loss: 1.7194\n",
      "Epoch [3/10], Step [31/62], Loss: 1.8456\n",
      "Epoch [3/10], Step [62/62], Loss: 1.3183\n",
      "Epoch [4/10], Step [31/62], Loss: 1.1340\n",
      "Epoch [4/10], Step [62/62], Loss: 1.0676\n",
      "Epoch [5/10], Step [31/62], Loss: 0.7302\n",
      "Epoch [5/10], Step [62/62], Loss: 0.9740\n",
      "Epoch [6/10], Step [31/62], Loss: 0.7583\n",
      "Epoch [6/10], Step [62/62], Loss: 0.5837\n",
      "Epoch [7/10], Step [31/62], Loss: 0.3462\n",
      "Epoch [7/10], Step [62/62], Loss: 0.5278\n",
      "Epoch [8/10], Step [31/62], Loss: 0.2818\n",
      "Epoch [8/10], Step [62/62], Loss: 0.1578\n",
      "Epoch [9/10], Step [31/62], Loss: 0.2122\n",
      "Epoch [9/10], Step [62/62], Loss: 0.4224\n",
      "Epoch [10/10], Step [31/62], Loss: 0.1877\n",
      "Epoch [10/10], Step [62/62], Loss: 0.0976\n"
     ]
    }
   ],
   "source": [
    "# Train the model\n",
    "total_step = len(trainloader)\n",
    "for epoch in range(num_epochs):\n",
    "    for i, (images, segs, targets) in enumerate(trainloader):\n",
    "        images = images.to(device)\n",
    "        labels = targets.to(device)\n",
    "        \n",
    "        images = torch.reshape(images, (batch_size,3,16,16))\n",
    "        # Forward pass\n",
    "        outputs = model_class(images)\n",
    "        labels = labels.to(torch.long)\n",
    "        loss = criterion(outputs, labels)\n",
    "        \n",
    "        # Backward and optimize\n",
    "        optimizer.zero_grad()\n",
    "        loss.backward()\n",
    "        optimizer.step()\n",
    "        \n",
    "        if (i+1) % 31 == 0:\n",
    "            print ('Epoch [{}/{}], Step [{}/{}], Loss: {:.4f}' \n",
    "                   .format(epoch+1, num_epochs, i+1, total_step, loss.item()))"
   ]
  },
  {
   "cell_type": "markdown",
   "metadata": {},
   "source": [
    "# Testing the Classification Model on the 16x16 Red Images"
   ]
  },
  {
   "cell_type": "code",
   "execution_count": 68,
   "metadata": {},
   "outputs": [
    {
     "name": "stdout",
     "output_type": "stream",
     "text": [
      "Size of inputs: torch.Size([1000, 3, 16, 16])\n",
      "Size of ground truth: torch.Size([1000, 16, 16])\n",
      "torch.Size([1000])\n"
     ]
    }
   ],
   "source": [
    "batch_size = 8\n",
    "'''\n",
    "inputs and segs are your data. \n",
    "'''\n",
    "targets=yte\n",
    "\n",
    "inputs = torch.from_numpy(Xte).float()\n",
    "targets = torch.from_numpy(targets).float()\n",
    "segs    = torch.from_numpy(Xste).float()\n",
    "\n",
    "print('Size of inputs: {}'. format(inputs.shape))\n",
    "print('Size of ground truth: {}'. format(segs.shape))\n",
    "print(targets.shape)\n",
    "\n",
    "# Dataloader\n",
    "testset = data_utils.TensorDataset(inputs, segs, targets)\n",
    "testloader = torch.utils.data.DataLoader(testset, batch_size= batch_size, \n",
    "                                          shuffle=True, drop_last=True)"
   ]
  },
  {
   "cell_type": "code",
   "execution_count": 69,
   "metadata": {},
   "outputs": [
    {
     "name": "stdout",
     "output_type": "stream",
     "text": [
      "Test Accuracy of the model on the 10000 test images: 8.5 %\n"
     ]
    }
   ],
   "source": [
    "# Test the model\n",
    "model_class.eval()  # eval mode (batchnorm uses moving mean/variance instead of mini-batch mean/variance)\n",
    "with torch.no_grad():\n",
    "    correct = 0\n",
    "    total = 0\n",
    "    for i, (images, segs, targets) in enumerate(testloader):\n",
    "        images = images.to(device)\n",
    "        labels = labels.to(device)\n",
    "        images = torch.reshape(images,(batch_size,3,16,16))\n",
    "        outputs = model_class(images)\n",
    "        _, predicted = torch.max(outputs.data, 1)\n",
    "        total += labels.size(0)\n",
    "        correct += (predicted == labels).sum().item()\n",
    "\n",
    "print('Test Accuracy of the model on the 10000 test images: {} %'.format(100 * correct / total))"
   ]
  },
  {
   "cell_type": "markdown",
   "metadata": {},
   "source": [
    "# Segmentation Model for 16x16 Color Images"
   ]
  },
  {
   "cell_type": "code",
   "execution_count": 34,
   "metadata": {},
   "outputs": [
    {
     "name": "stdout",
     "output_type": "stream",
     "text": [
      "Shape of the input image (10000, 16, 16, 3) (10000, 16, 16)\n",
      "Shape of the input image (10000, 3, 16, 16) (10000, 16, 16) (10000,)\n"
     ]
    }
   ],
   "source": [
    "mydata = SimpleDataset( \"./data1_color/\", \"labels.csv\")\n",
    "\n",
    "#splitting into images and labels \n",
    "X  = []\n",
    "y  = []\n",
    "Xs = []\n",
    "for i in range(len(mydata)):\n",
    "    X.append(mydata[i][0])\n",
    "    y.append((mydata[i][1]))\n",
    "    Xs.append(mydata[i][2])\n",
    "\n",
    "\n",
    "#converting into numpy arrays to enable easy reshaping and other array operations\n",
    "    \n",
    "X  = np.asarray(X)\n",
    "Xs = np.asarray(Xs)\n",
    "print(\"Shape of the input image\", X.shape, Xs.shape)\n",
    "y= np.asarray(y)\n",
    "\n",
    "X  = np.swapaxes(X,1,3)\n",
    "X  = np.swapaxes(X,2,3)\n",
    "print(\"Shape of the input image\", X.shape, Xs.shape,y.shape)"
   ]
  },
  {
   "cell_type": "code",
   "execution_count": 35,
   "metadata": {},
   "outputs": [
    {
     "name": "stdout",
     "output_type": "stream",
     "text": [
      "(500, 3, 16, 16) (500, 16, 16) (500,)\n",
      "(500, 3, 16, 16) (500, 16, 16) (500,)\n",
      "(1000, 3, 16, 16) (1000, 16, 16) (1000,)\n"
     ]
    }
   ],
   "source": [
    "Xtr=X[:500,:,:,:]/255\n",
    "Xstr=Xs[:500,:,:]/255\n",
    "ytr=y[:500]\n",
    "\n",
    "Xval=X[8500:9000,:,:,:]/255 #need to change validation size for 32x32 & 64x64 images\n",
    "Xsval=Xs[8500:9000,:,:]/255\n",
    "yval=y[8500:9000]\n",
    "\n",
    "Xte=X[-1000:,:,:,:]/255 #need to change test size for 32x32 & 64x64 images\n",
    "Xste=Xs[-1000:,:,:]/255\n",
    "yte=y[-1000:]\n",
    "\n",
    "\n",
    "print(Xtr.shape,Xstr.shape,ytr.shape)\n",
    "print(Xval.shape,Xsval.shape,yval.shape)\n",
    "print(Xte.shape,Xste.shape,yte.shape)"
   ]
  },
  {
   "cell_type": "code",
   "execution_count": 36,
   "metadata": {},
   "outputs": [
    {
     "name": "stdout",
     "output_type": "stream",
     "text": [
      "Size of inputs: torch.Size([500, 3, 16, 16])\n",
      "Size of ground truth: torch.Size([500, 16, 16])\n",
      "torch.Size([500])\n"
     ]
    }
   ],
   "source": [
    "batch_size = 8\n",
    "'''\n",
    "inputs and segs are your data. \n",
    "'''\n",
    "targets=ytr\n",
    "\n",
    "inputs = torch.from_numpy(Xtr).float()\n",
    "targets = torch.from_numpy(targets).float()\n",
    "segs    = torch.from_numpy(Xstr).float()\n",
    "\n",
    "print('Size of inputs: {}'. format(inputs.shape))\n",
    "print('Size of ground truth: {}'. format(segs.shape))\n",
    "print(targets.shape)\n",
    "\n",
    "# Dataloader\n",
    "trainset = data_utils.TensorDataset(inputs, segs)\n",
    "trainloader = torch.utils.data.DataLoader(trainset, batch_size= batch_size, \n",
    "                                          shuffle=True, drop_last=True)"
   ]
  },
  {
   "cell_type": "code",
   "execution_count": 37,
   "metadata": {},
   "outputs": [
    {
     "name": "stdout",
     "output_type": "stream",
     "text": [
      "Size of inputs: torch.Size([500, 3, 16, 16])\n",
      "Size of ground truth: torch.Size([500, 16, 16])\n",
      "torch.Size([500])\n"
     ]
    }
   ],
   "source": [
    "targets=yval\n",
    "inputs = torch.from_numpy(Xval).float()\n",
    "targets = torch.from_numpy(targets).float()\n",
    "segs    = torch.from_numpy(Xsval).float()\n",
    "\n",
    "print('Size of inputs: {}'. format(inputs.shape))\n",
    "print('Size of ground truth: {}'. format(segs.shape))\n",
    "print(targets.shape)\n",
    "\n",
    "# Dataloader\n",
    "valset = data_utils.TensorDataset(inputs, segs)\n",
    "val_loader = torch.utils.data.DataLoader(valset, batch_size= batch_size, \n",
    "                                          shuffle=False, drop_last=True)"
   ]
  },
  {
   "cell_type": "code",
   "execution_count": 38,
   "metadata": {},
   "outputs": [],
   "source": [
    "model_color = unet2D()\n",
    "\n",
    "# Hyper parameters\n",
    "num_epochs = 5   #can increase this value\n",
    "num_classes = 1\n",
    "learning_rate = 0.0001\n",
    "optimizer = torch.optim.Adam(model_color.parameters(), lr=learning_rate)\n",
    "criterion = nn.BCELoss()"
   ]
  },
  {
   "cell_type": "code",
   "execution_count": 39,
   "metadata": {},
   "outputs": [
    {
     "name": "stdout",
     "output_type": "stream",
     "text": [
      "Epoch [1/5], Step [31/62], TrLoss: 0.6368, TrDice: 0.5358\n",
      "Epoch [1/5], Step [62/62], TrLoss: 0.4929, TrDice: 0.6936\n"
     ]
    },
    {
     "name": "stderr",
     "output_type": "stream",
     "text": [
      "C:\\Users\\kvija\\Anaconda3\\envs\\tensorflow\\lib\\site-packages\\ipykernel_launcher.py:39: UserWarning: volatile was removed and now has no effect. Use `with torch.no_grad():` instead.\n"
     ]
    },
    {
     "name": "stdout",
     "output_type": "stream",
     "text": [
      "Epoch [1/5], Step [31/62], ValLoss: 0.5593, ValDice: 0.6719\n",
      "Epoch [1/5], Step [62/62], ValLoss: 0.5081, ValDice: 0.7191\n",
      "Epoch [2/5], Step [31/62], TrLoss: 0.4264, TrDice: 0.8112\n",
      "Epoch [2/5], Step [62/62], TrLoss: 0.4163, TrDice: 0.7946\n",
      "Epoch [2/5], Step [31/62], ValLoss: 0.3569, ValDice: 0.8919\n",
      "Epoch [2/5], Step [62/62], ValLoss: 0.3579, ValDice: 0.8746\n",
      "Epoch [3/5], Step [31/62], TrLoss: 0.3699, TrDice: 0.8626\n"
     ]
    },
    {
     "ename": "KeyboardInterrupt",
     "evalue": "",
     "output_type": "error",
     "traceback": [
      "\u001b[1;31m---------------------------------------------------------------------------\u001b[0m",
      "\u001b[1;31mKeyboardInterrupt\u001b[0m                         Traceback (most recent call last)",
      "\u001b[1;32m<ipython-input-39-5797d7579932>\u001b[0m in \u001b[0;36m<module>\u001b[1;34m\u001b[0m\n\u001b[0;32m     28\u001b[0m         \u001b[0moptimizer\u001b[0m\u001b[1;33m.\u001b[0m\u001b[0mzero_grad\u001b[0m\u001b[1;33m(\u001b[0m\u001b[1;33m)\u001b[0m\u001b[1;33m\u001b[0m\u001b[1;33m\u001b[0m\u001b[0m\n\u001b[0;32m     29\u001b[0m         \u001b[0mloss\u001b[0m\u001b[1;33m.\u001b[0m\u001b[0mbackward\u001b[0m\u001b[1;33m(\u001b[0m\u001b[1;33m)\u001b[0m\u001b[1;33m\u001b[0m\u001b[1;33m\u001b[0m\u001b[0m\n\u001b[1;32m---> 30\u001b[1;33m         \u001b[0moptimizer\u001b[0m\u001b[1;33m.\u001b[0m\u001b[0mstep\u001b[0m\u001b[1;33m(\u001b[0m\u001b[1;33m)\u001b[0m\u001b[1;33m\u001b[0m\u001b[1;33m\u001b[0m\u001b[0m\n\u001b[0m\u001b[0;32m     31\u001b[0m         \u001b[1;32mif\u001b[0m \u001b[1;33m(\u001b[0m\u001b[0mi\u001b[0m\u001b[1;33m+\u001b[0m\u001b[1;36m1\u001b[0m\u001b[1;33m)\u001b[0m \u001b[1;33m%\u001b[0m \u001b[1;36m31\u001b[0m \u001b[1;33m==\u001b[0m \u001b[1;36m0\u001b[0m\u001b[1;33m:\u001b[0m\u001b[1;33m\u001b[0m\u001b[1;33m\u001b[0m\u001b[0m\n\u001b[0;32m     32\u001b[0m             print ('Epoch [{}/{}], Step [{}/{}], TrLoss: {:.4f}, TrDice: {:.4f}' \n",
      "\u001b[1;32m~\\Anaconda3\\envs\\tensorflow\\lib\\site-packages\\torch\\optim\\adam.py\u001b[0m in \u001b[0;36mstep\u001b[1;34m(self, closure)\u001b[0m\n\u001b[0;32m    105\u001b[0m                 \u001b[0mstep_size\u001b[0m \u001b[1;33m=\u001b[0m \u001b[0mgroup\u001b[0m\u001b[1;33m[\u001b[0m\u001b[1;34m'lr'\u001b[0m\u001b[1;33m]\u001b[0m \u001b[1;33m/\u001b[0m \u001b[0mbias_correction1\u001b[0m\u001b[1;33m\u001b[0m\u001b[1;33m\u001b[0m\u001b[0m\n\u001b[0;32m    106\u001b[0m \u001b[1;33m\u001b[0m\u001b[0m\n\u001b[1;32m--> 107\u001b[1;33m                 \u001b[0mp\u001b[0m\u001b[1;33m.\u001b[0m\u001b[0mdata\u001b[0m\u001b[1;33m.\u001b[0m\u001b[0maddcdiv_\u001b[0m\u001b[1;33m(\u001b[0m\u001b[1;33m-\u001b[0m\u001b[0mstep_size\u001b[0m\u001b[1;33m,\u001b[0m \u001b[0mexp_avg\u001b[0m\u001b[1;33m,\u001b[0m \u001b[0mdenom\u001b[0m\u001b[1;33m)\u001b[0m\u001b[1;33m\u001b[0m\u001b[1;33m\u001b[0m\u001b[0m\n\u001b[0m\u001b[0;32m    108\u001b[0m \u001b[1;33m\u001b[0m\u001b[0m\n\u001b[0;32m    109\u001b[0m         \u001b[1;32mreturn\u001b[0m \u001b[0mloss\u001b[0m\u001b[1;33m\u001b[0m\u001b[1;33m\u001b[0m\u001b[0m\n",
      "\u001b[1;31mKeyboardInterrupt\u001b[0m: "
     ]
    }
   ],
   "source": [
    "total_step = len(trainloader)\n",
    "resultstr = []\n",
    "resultsval = []\n",
    "for epoch in range(num_epochs):\n",
    "    for i, (images, labels) in enumerate(trainloader):\n",
    "        model_color.train()\n",
    "        images = Variable(images)\n",
    "        blabels1 = labels\n",
    "        nlab=blabels1.view(-1,1,16,16)\n",
    "        labels = Variable(nlab).type(torch.FloatTensor)\n",
    "        \n",
    "        # Forward pass\n",
    "        outputs = model_color(images)\n",
    "        loss = criterion(outputs, labels)\n",
    "        \n",
    "        #Calcualte Dice coefficient\n",
    "        out=outputs.data.numpy()\n",
    "        out=np.reshape(out,(-1,16,16))\n",
    "        out1=copy.deepcopy(out)\n",
    "        out1[out1>0.5]=1\n",
    "        out1[out1<=0.5]=0\n",
    "        lab=labels.data.numpy()\n",
    "        lab=np.reshape(lab,(-1,16,16))\n",
    "        dice = np.sum(out1[lab==1])*2.0 / (np.sum(out1) + np.sum(lab))\n",
    "\n",
    "        \n",
    "        # Backward and optimize\n",
    "        optimizer.zero_grad()\n",
    "        loss.backward()\n",
    "        optimizer.step()\n",
    "        if (i+1) % 31 == 0:\n",
    "            print ('Epoch [{}/{}], Step [{}/{}], TrLoss: {:.4f}, TrDice: {:.4f}' \n",
    "                   .format(epoch+1,num_epochs,i+1, total_step, loss.data, dice))\n",
    "    resultstr.append([loss.data,dice]) # keep them for further processing\n",
    "\n",
    "    #Do validation\n",
    "    for i, (images, labels) in enumerate(val_loader):\n",
    "        model_color.eval()\n",
    "        images = Variable(images,volatile=True)\n",
    "        blabels1 = labels\n",
    "        nlab=blabels1.view(-1,1,16,16)\n",
    "        labels = Variable(nlab).type(torch.FloatTensor)\n",
    "         \n",
    "        # Forward pass\n",
    "        outputs = model_color(images)\n",
    "        loss = criterion(outputs, labels)\n",
    "    \n",
    "        #Calcualte Dice coefficient\n",
    "        out=outputs.data.numpy()\n",
    "        out=np.reshape(out,(-1,16,16))\n",
    "        out1=copy.deepcopy(out)\n",
    "        out1[out1>0.5]=1\n",
    "        out1[out1<=0.5]=0\n",
    "        lab=labels.data.numpy()\n",
    "        lab=np.reshape(lab,(-1,16,16))\n",
    "        dice = np.sum(out1[lab==1])*2.0 / (np.sum(out1) + np.sum(lab))\n",
    "        \n",
    "        if (i+1) % 31 == 0:\n",
    "            print ('Epoch [{}/{}], Step [{}/{}], ValLoss: {:.4f}, ValDice: {:.4f}' \n",
    "                   .format(epoch+1,num_epochs,i+1, total_step, loss.data, dice))\n",
    "    resultsval.append([loss.data,dice]) "
   ]
  },
  {
   "cell_type": "code",
   "execution_count": null,
   "metadata": {},
   "outputs": [],
   "source": [
    "resultsval=np.array(resultsval)\n",
    "resultstr=np.array(resultstr)\n",
    "\n",
    "valdice=resultsval[:,1]\n",
    "valloss=resultsval[:,0]\n",
    "trdice=resultstr[:,1]\n",
    "trloss=resultstr[:,0]\n",
    "x=np.arange(1, len(valdice)+1, 1)\n",
    "plt.plot(x,valdice)\n",
    "plt.plot(x,trdice)\n",
    "plt.ylabel('Dice coefficient')\n",
    "plt.xlabel('epoch')\n",
    "plt.legend(['validation', 'train'], loc='lower right')\n",
    "plt.title('Model Dice coefficient')\n",
    "plt.show()"
   ]
  },
  {
   "cell_type": "code",
   "execution_count": null,
   "metadata": {},
   "outputs": [],
   "source": [
    "from matplotlib.ticker import (MultipleLocator)\n",
    "\n",
    "x=np.arange(1, len(valdice)+1, 1)\n",
    "fig, ax1=plt.subplots()\n",
    "\n",
    "color='tab:red'\n",
    "ax1.set_ylabel('loss', color=color,fontsize=13)\n",
    "ax1.plot(x,valloss,color=color)\n",
    "ax1.plot(x,trloss, color=color,linestyle='dashed')\n",
    "ax1.tick_params(axis='y', labelcolor=color)\n",
    "ax1.xaxis.set_major_locator(MultipleLocator(1))\n",
    "plt.xlabel('epoch', fontsize=13)\n",
    "plt.legend(['(solid) validation loss', '(dashed) train loss'], loc='best', handletextpad=0,\n",
    "           handlelength=0, fontsize=13)\n",
    "plt.title('Model loss & dice coefficient')\n",
    "\n",
    "color='tab:blue'\n",
    "ax2=ax1.twinx()\n",
    "ax2.set_ylabel('dice coefficient', color=color, fontsize=13)\n",
    "ax2.plot(x,valdice,color=color)\n",
    "ax2.plot(x,trdice,color=color,linestyle='dashed')\n",
    "ax2.tick_params(axis='y', labelcolor=color)\n",
    "\n",
    "plt.show()"
   ]
  },
  {
   "cell_type": "markdown",
   "metadata": {},
   "source": [
    "# Testing Segmentation Model on 16x16 Color Images"
   ]
  },
  {
   "cell_type": "code",
   "execution_count": null,
   "metadata": {},
   "outputs": [],
   "source": []
  },
  {
   "cell_type": "markdown",
   "metadata": {},
   "source": [
    "# Classification Model for 16x16 Color Images"
   ]
  },
  {
   "cell_type": "code",
   "execution_count": null,
   "metadata": {},
   "outputs": [],
   "source": [
    "batch_size = 8\n",
    "'''\n",
    "inputs and segs are your data. \n",
    "'''\n",
    "targets=ytr\n",
    "\n",
    "inputs = torch.from_numpy(Xtr).float()\n",
    "targets = torch.from_numpy(targets).float()\n",
    "segs    = torch.from_numpy(Xstr).float()\n",
    "\n",
    "print('Size of inputs: {}'. format(inputs.shape))\n",
    "print('Size of ground truth: {}'. format(segs.shape))\n",
    "print(targets.shape)\n",
    "\n",
    "# Dataloader\n",
    "trainset = data_utils.TensorDataset(inputs, segs, targets)\n",
    "trainloader = torch.utils.data.DataLoader(trainset, batch_size= batch_size, \n",
    "                                          shuffle=True, drop_last=True)"
   ]
  },
  {
   "cell_type": "code",
   "execution_count": null,
   "metadata": {},
   "outputs": [],
   "source": [
    "model_class_color = ConvNet(num_classes).to(device)\n",
    "# Loss and optimizer\n",
    "criterion = nn.CrossEntropyLoss()\n",
    "optimizer = torch.optim.Adam(model_class_color.parameters(), lr=learning_rate)"
   ]
  },
  {
   "cell_type": "code",
   "execution_count": null,
   "metadata": {},
   "outputs": [],
   "source": [
    "# Train the model\n",
    "total_step = len(trainloader)\n",
    "for epoch in range(num_epochs):\n",
    "    for i, (images, segs, targets) in enumerate(trainloader):\n",
    "        images = images.to(device)\n",
    "        labels = targets.to(device)\n",
    "        \n",
    "        images = torch.reshape(images, (batch_size,3,16,16))\n",
    "        # Forward pass\n",
    "        outputs = model_class(images)\n",
    "        labels = labels.to(torch.long)\n",
    "        loss = criterion(outputs, labels)\n",
    "        \n",
    "        # Backward and optimize\n",
    "        optimizer.zero_grad()\n",
    "        loss.backward()\n",
    "        optimizer.step()\n",
    "        \n",
    "        if (i+1) % 100 == 0:\n",
    "            print ('Epoch [{}/{}], Step [{}/{}], Loss: {:.4f}' \n",
    "                   .format(epoch+1, num_epochs, i+1, total_step, loss.item()))"
   ]
  },
  {
   "cell_type": "markdown",
   "metadata": {},
   "source": [
    "# Testing the Classification Model on 16x16 Color Images"
   ]
  },
  {
   "cell_type": "code",
   "execution_count": null,
   "metadata": {},
   "outputs": [],
   "source": [
    "batch_size = 8\n",
    "'''\n",
    "inputs and segs are your data. \n",
    "'''\n",
    "targets=yte\n",
    "\n",
    "inputs = torch.from_numpy(Xte).float()\n",
    "targets = torch.from_numpy(targets).float()\n",
    "segs    = torch.from_numpy(Xste).float()\n",
    "\n",
    "print('Size of inputs: {}'. format(inputs.shape))\n",
    "print('Size of ground truth: {}'. format(segs.shape))\n",
    "print(targets.shape)\n",
    "\n",
    "# Dataloader\n",
    "testset = data_utils.TensorDataset(inputs, segs, targets)\n",
    "testloader = torch.utils.data.DataLoader(testset, batch_size= batch_size, \n",
    "                                          shuffle=True, drop_last=True)"
   ]
  },
  {
   "cell_type": "code",
   "execution_count": null,
   "metadata": {},
   "outputs": [],
   "source": [
    "# Test the model\n",
    "model_class_color.eval()  # eval mode (batchnorm uses moving mean/variance instead of mini-batch mean/variance)\n",
    "with torch.no_grad():\n",
    "    correct = 0\n",
    "    total = 0\n",
    "    for i, (images, segs, targets) in enumerate(testloader):\n",
    "        images = images.to(device)\n",
    "        labels = labels.to(device)\n",
    "        images = torch.reshape(images,(batch_size,3,16,16))\n",
    "        outputs = model_class_color(images)\n",
    "        _, predicted = torch.max(outputs.data, 1)\n",
    "        total += labels.size(0)\n",
    "        correct += (predicted == labels).sum().item()\n",
    "\n",
    "print('Test Accuracy of the model on the 10000 test images: {} %'.format(100 * correct / total))"
   ]
  }
 ],
 "metadata": {
  "kernelspec": {
   "display_name": "Python 3",
   "language": "python",
   "name": "python3"
  },
  "language_info": {
   "codemirror_mode": {
    "name": "ipython",
    "version": 3
   },
   "file_extension": ".py",
   "mimetype": "text/x-python",
   "name": "python",
   "nbconvert_exporter": "python",
   "pygments_lexer": "ipython3",
   "version": "3.6.5"
  }
 },
 "nbformat": 4,
 "nbformat_minor": 2
}
