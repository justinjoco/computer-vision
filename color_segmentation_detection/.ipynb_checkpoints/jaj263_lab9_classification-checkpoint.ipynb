{
 "cells": [
  {
   "cell_type": "markdown",
   "metadata": {},
   "source": [
    "# ECE 5470: Lab9, Segmentation and Detection with Deep Learning (Classification)\n",
    "- Justin Joco (jaj263)\n",
    "- Due Sunday, December 8th, 2019\n",
    "- Slipdays used: 0"
   ]
  },
  {
   "cell_type": "code",
   "execution_count": 1,
   "metadata": {},
   "outputs": [],
   "source": [
    "import numpy as np\n",
    "import torch\n",
    "import torchvision\n",
    "import torch.nn as nn\n",
    "import torchvision.transforms as transforms\n",
    "import torchvision.datasets as datasets\n",
    "from torch.autograd import Variable\n",
    "import matplotlib.pyplot as plt\n",
    "from PIL import Image\n",
    "import os\n",
    "import copy\n",
    "import torch.utils.data as data_utils\n",
    "import requests, zipfile, io\n",
    "import matplotlib.cm as cm\n",
    "from matplotlib.colors import ListedColormap\n",
    "from sklearn.metrics import confusion_matrix\n",
    "\n",
    "%matplotlib inline\n"
   ]
  },
  {
   "cell_type": "code",
   "execution_count": 2,
   "metadata": {},
   "outputs": [],
   "source": [
    "import pandas as pd\n",
    "import imageio\n",
    "\n",
    "class SimpleDataset():\n",
    "    def __init__(self, data_path, csv_name, transform = None ):\n",
    "        \"\"\"\n",
    "        Args:\n",
    "            data_path (string): path to the folder where images and csv files are located\n",
    "            csv_name (string): name of the csv lablel file\n",
    "            transform: pytorch transforms for transforms and tensor conversion\n",
    "        \"\"\"\n",
    "        # Set path\n",
    "        self.data_path = data_path\n",
    "        \n",
    "        # Read the csv file\n",
    "        self.data_info = pd.read_csv(data_path + csv_name, header=0)\n",
    "       \n",
    "        # First column contains the image paths\n",
    "        self.image_arr = np.asarray(self.data_info.iloc[:, 0])\n",
    "        \n",
    "        # Second column is the labels\n",
    "        self.label_arr = np.asarray(self.data_info.iloc[:, 1])\n",
    "        # Calculate len\n",
    "        self.data_len = len(self.data_info.index)\n",
    "        \n",
    "    def __getitem__(self, index):\n",
    "        # Get image name from the pandas df\n",
    "        single_image_name = self.image_arr[index]\n",
    "        # Open image\n",
    "        a=single_image_name[:-3] + \"png\"\n",
    "        single_image_name=a\n",
    "        img_as_img = imageio.imread(self.data_path + single_image_name)\n",
    "        # Open segmented mask\n",
    "        a = single_image_name[:2] + \"seg\" + single_image_name[2:]\n",
    "        imseg_name = a[:-3] + \"png\"\n",
    "        imgsg_as_img = imageio.imread(self.data_path + imseg_name)\n",
    "        \n",
    "        \n",
    "        # Get label(class) of the image based on the cropped pandas column\n",
    "        single_image_label = self.label_arr[index]\n",
    "        \n",
    "        return (img_as_img, single_image_label, imgsg_as_img)\n",
    "\n",
    "    def __len__(self):\n",
    "        return self.data_len"
   ]
  },
  {
   "cell_type": "markdown",
   "metadata": {},
   "source": [
    "## 16 x 16 Classification"
   ]
  },
  {
   "cell_type": "code",
   "execution_count": 3,
   "metadata": {},
   "outputs": [
    {
     "name": "stdout",
     "output_type": "stream",
     "text": [
      "Shape of the input image (10000, 16, 16, 3) (10000, 16, 16)\n",
      "Shape of the input image (10000, 3, 16, 16) (10000, 16, 16) (10000,)\n"
     ]
    }
   ],
   "source": [
    "mydata = SimpleDataset( \"./data1/\", \"labels.csv\")\n",
    "\n",
    "#splitting into images and labels \n",
    "X  = []\n",
    "y  = []\n",
    "Xs = []\n",
    "for i in range(len(mydata)):\n",
    "    X.append(mydata[i][0])\n",
    "    y.append((mydata[i][1]))\n",
    "    Xs.append(mydata[i][2])\n",
    "\n",
    "\n",
    "#converting into numpy arrays to enable easy reshaping and other array operations\n",
    "    \n",
    "X  = np.asarray(X)\n",
    "Xs = np.asarray(Xs)\n",
    "print(\"Shape of the input image\", X.shape, Xs.shape)\n",
    "y= np.asarray(y)\n",
    "\n",
    "X  = np.swapaxes(X,1,3)\n",
    "X  = np.swapaxes(X,2,3)\n",
    "print(\"Shape of the input image\", X.shape, Xs.shape,y.shape)"
   ]
  },
  {
   "cell_type": "code",
   "execution_count": 4,
   "metadata": {},
   "outputs": [
    {
     "name": "stdout",
     "output_type": "stream",
     "text": [
      "(1000, 3, 16, 16) (1000, 16, 16) (1000,)\n",
      "(500, 3, 16, 16) (500, 16, 16) (500,)\n",
      "(1000, 3, 16, 16) (1000, 16, 16) (1000,)\n"
     ]
    }
   ],
   "source": [
    "Xtr=X[:1000,:,:,:]/255\n",
    "Xstr=Xs[:1000,:,:]/255\n",
    "ytr=y[:1000]\n",
    "\n",
    "Xval=X[3500:4000,:,:,:]/255 \n",
    "Xsval=Xs[3500:4000,:,:]/255\n",
    "yval=y[3500:4000]\n",
    "\n",
    "Xte=X[-1000:,:,:,:]/255 \n",
    "Xste=Xs[-1000:,:,:]/255\n",
    "yte=y[-1000:]\n",
    "\n",
    "\n",
    "print(Xtr.shape,Xstr.shape,ytr.shape)\n",
    "print(Xval.shape,Xsval.shape,yval.shape)\n",
    "print(Xte.shape,Xste.shape,yte.shape)"
   ]
  },
  {
   "cell_type": "code",
   "execution_count": 5,
   "metadata": {},
   "outputs": [
    {
     "name": "stdout",
     "output_type": "stream",
     "text": [
      "Size of inputs: torch.Size([1000, 3, 16, 16])\n",
      "Size of ground truth: torch.Size([1000, 16, 16])\n",
      "torch.Size([1000])\n"
     ]
    }
   ],
   "source": [
    "batch_size = 8\n",
    "targets=ytr\n",
    "\n",
    "inputs = torch.from_numpy(Xtr).float()\n",
    "targets = torch.from_numpy(targets).float()\n",
    "segs    = torch.from_numpy(Xstr).float()\n",
    "\n",
    "print('Size of inputs: {}'. format(inputs.shape))\n",
    "print('Size of ground truth: {}'. format(segs.shape))\n",
    "print(targets.shape)\n",
    "\n",
    "# Dataloader\n",
    "trainset = data_utils.TensorDataset(inputs, segs, targets)\n",
    "trainloader = torch.utils.data.DataLoader(trainset, batch_size= batch_size, \n",
    "                                          shuffle=True, drop_last=True)\n",
    "\n"
   ]
  },
  {
   "cell_type": "code",
   "execution_count": 6,
   "metadata": {},
   "outputs": [
    {
     "name": "stdout",
     "output_type": "stream",
     "text": [
      "Size of inputs: torch.Size([500, 3, 16, 16])\n",
      "Size of ground truth: torch.Size([500, 16, 16])\n",
      "torch.Size([500])\n"
     ]
    }
   ],
   "source": [
    "targets=yval\n",
    "inputs = torch.from_numpy(Xval).float()\n",
    "targets = torch.from_numpy(targets).float()\n",
    "segs    = torch.from_numpy(Xsval).float()\n",
    "\n",
    "print('Size of inputs: {}'. format(inputs.shape))\n",
    "print('Size of ground truth: {}'. format(segs.shape))\n",
    "print(targets.shape)\n",
    "\n",
    "# Dataloader\n",
    "valset = data_utils.TensorDataset(inputs, segs, targets)\n",
    "val_loader = torch.utils.data.DataLoader(valset, batch_size= batch_size, \n",
    "                                          shuffle=False, drop_last=True)"
   ]
  },
  {
   "cell_type": "code",
   "execution_count": 7,
   "metadata": {},
   "outputs": [
    {
     "name": "stdout",
     "output_type": "stream",
     "text": [
      "Size of inputs: torch.Size([1000, 3, 16, 16])\n",
      "Size of ground truth: torch.Size([1000, 16, 16])\n",
      "torch.Size([1000])\n"
     ]
    }
   ],
   "source": [
    "'''\n",
    "inputs and segs are your data. \n",
    "'''\n",
    "targets=yte\n",
    "\n",
    "inputs = torch.from_numpy(Xte).float()\n",
    "targets = torch.from_numpy(targets).float()\n",
    "segs    = torch.from_numpy(Xste).float()\n",
    "\n",
    "print('Size of inputs: {}'. format(inputs.shape))\n",
    "print('Size of ground truth: {}'. format(segs.shape))\n",
    "print(targets.shape)\n",
    "\n",
    "# Dataloader\n",
    "testset = data_utils.TensorDataset(inputs, segs, targets)\n",
    "testloader = torch.utils.data.DataLoader(testset, batch_size= batch_size, \n",
    "                                          shuffle=True, drop_last=True)\n",
    "\n"
   ]
  },
  {
   "cell_type": "code",
   "execution_count": 8,
   "metadata": {},
   "outputs": [],
   "source": [
    "device = torch.device('cuda:0' if torch.cuda.is_available() else 'cpu')\n",
    "\n",
    "# Hyper parameters\n",
    "num_epochs = 8\n",
    "num_classes = 10\n",
    "batch_size = 8\n",
    "learning_rate = 0.001\n"
   ]
  },
  {
   "cell_type": "code",
   "execution_count": 9,
   "metadata": {},
   "outputs": [],
   "source": [
    "# Convolutional neural network (two convolutional layers)\n",
    "class ConvNet(nn.Module):\n",
    "    def __init__(self, num_classes=10):\n",
    "        super(ConvNet, self).__init__()\n",
    "        self.layer1 = nn.Sequential(\n",
    "            nn.Conv2d(3, 16, kernel_size=5, stride=1, padding=2),\n",
    "            nn.BatchNorm2d(16),\n",
    "            nn.ReLU(),\n",
    "            nn.MaxPool2d(kernel_size=2, stride=2))\n",
    "        self.layer2 = nn.Sequential(\n",
    "            nn.Conv2d(16, 32, kernel_size=5, stride=1, padding=2),\n",
    "            nn.BatchNorm2d(32),\n",
    "            nn.ReLU(),\n",
    "            nn.MaxPool2d(kernel_size=2, stride=2))\n",
    "        self.fc = nn.Linear(4*4*32, num_classes)\n",
    "        \n",
    "    def forward(self, x):\n",
    "        out = self.layer1(x)\n",
    "        out = self.layer2(out)\n",
    "        out = out.reshape(out.size(0), -1)\n",
    "        out = self.fc(out)\n",
    "        return out\n",
    "    "
   ]
  },
  {
   "cell_type": "code",
   "execution_count": 10,
   "metadata": {},
   "outputs": [],
   "source": [
    "model = ConvNet(num_classes).to(device)"
   ]
  },
  {
   "cell_type": "code",
   "execution_count": 11,
   "metadata": {},
   "outputs": [],
   "source": [
    "# Loss and optimizer\n",
    "criterion = nn.CrossEntropyLoss()\n",
    "optimizer = torch.optim.Adam(model.parameters(), lr=learning_rate)"
   ]
  },
  {
   "cell_type": "code",
   "execution_count": 12,
   "metadata": {},
   "outputs": [
    {
     "name": "stdout",
     "output_type": "stream",
     "text": [
      "Epoch [1/8], Step [31/125], Tr Loss: 2.5493, Acc: 13.3065\n",
      "Epoch [1/8], Step [62/125], Tr Loss: 2.2896, Acc: 15.9274\n",
      "Epoch [1/8], Step [93/125], Tr Loss: 1.7473, Acc: 22.4462\n",
      "Epoch [1/8], Step [124/125], Tr Loss: 2.0743, Acc: 25.7056\n",
      "Epoch [1/8], Step [31/62], Val Loss: 1.9415, Acc: 37.5000\n",
      "Epoch [1/8], Step [62/62], Val Loss: 1.6547, Acc: 37.7016\n",
      "Epoch [2/8], Step [31/125], Tr Loss: 1.2680, Acc: 51.2097\n",
      "Epoch [2/8], Step [62/125], Tr Loss: 1.4000, Acc: 53.8306\n",
      "Epoch [2/8], Step [93/125], Tr Loss: 0.6139, Acc: 59.1398\n",
      "Epoch [2/8], Step [124/125], Tr Loss: 1.1534, Acc: 62.6008\n",
      "Epoch [2/8], Step [31/62], Val Loss: 0.8119, Acc: 63.7097\n",
      "Epoch [2/8], Step [62/62], Val Loss: 0.9273, Acc: 64.7177\n",
      "Epoch [3/8], Step [31/125], Tr Loss: 0.6248, Acc: 76.6129\n",
      "Epoch [3/8], Step [62/125], Tr Loss: 0.4918, Acc: 79.0323\n",
      "Epoch [3/8], Step [93/125], Tr Loss: 0.3018, Acc: 80.3763\n",
      "Epoch [3/8], Step [124/125], Tr Loss: 0.9330, Acc: 79.0323\n",
      "Epoch [3/8], Step [31/62], Val Loss: 0.7058, Acc: 76.6129\n",
      "Epoch [3/8], Step [62/62], Val Loss: 0.8186, Acc: 76.2097\n",
      "Epoch [4/8], Step [31/125], Tr Loss: 0.9257, Acc: 85.0806\n",
      "Epoch [4/8], Step [62/125], Tr Loss: 0.4157, Acc: 85.8871\n",
      "Epoch [4/8], Step [93/125], Tr Loss: 0.2830, Acc: 85.4839\n",
      "Epoch [4/8], Step [124/125], Tr Loss: 0.4694, Acc: 85.5847\n",
      "Epoch [4/8], Step [31/62], Val Loss: 0.5582, Acc: 77.8226\n",
      "Epoch [4/8], Step [62/62], Val Loss: 0.7362, Acc: 77.8226\n",
      "Epoch [5/8], Step [31/125], Tr Loss: 0.1663, Acc: 92.3387\n",
      "Epoch [5/8], Step [62/125], Tr Loss: 0.3347, Acc: 92.9435\n",
      "Epoch [5/8], Step [93/125], Tr Loss: 0.2990, Acc: 93.2796\n",
      "Epoch [5/8], Step [124/125], Tr Loss: 0.5111, Acc: 91.8347\n",
      "Epoch [5/8], Step [31/62], Val Loss: 0.6664, Acc: 79.0323\n",
      "Epoch [5/8], Step [62/62], Val Loss: 0.4678, Acc: 79.8387\n",
      "Epoch [6/8], Step [31/125], Tr Loss: 0.1649, Acc: 95.1613\n",
      "Epoch [6/8], Step [62/125], Tr Loss: 0.6926, Acc: 95.5645\n",
      "Epoch [6/8], Step [93/125], Tr Loss: 0.2308, Acc: 95.0269\n",
      "Epoch [6/8], Step [124/125], Tr Loss: 0.1620, Acc: 94.4556\n",
      "Epoch [6/8], Step [31/62], Val Loss: 0.3918, Acc: 81.4516\n",
      "Epoch [6/8], Step [62/62], Val Loss: 0.7851, Acc: 81.6532\n",
      "Epoch [7/8], Step [31/125], Tr Loss: 0.3216, Acc: 97.1774\n",
      "Epoch [7/8], Step [62/125], Tr Loss: 0.0873, Acc: 96.5726\n",
      "Epoch [7/8], Step [93/125], Tr Loss: 0.0312, Acc: 96.6398\n",
      "Epoch [7/8], Step [124/125], Tr Loss: 0.1818, Acc: 96.3710\n",
      "Epoch [7/8], Step [31/62], Val Loss: 0.7724, Acc: 84.2742\n",
      "Epoch [7/8], Step [62/62], Val Loss: 0.3896, Acc: 84.8790\n",
      "Epoch [8/8], Step [31/125], Tr Loss: 0.0651, Acc: 98.3871\n",
      "Epoch [8/8], Step [62/125], Tr Loss: 0.2103, Acc: 98.5887\n",
      "Epoch [8/8], Step [93/125], Tr Loss: 0.0331, Acc: 98.5215\n",
      "Epoch [8/8], Step [124/125], Tr Loss: 0.0254, Acc: 98.5887\n",
      "Epoch [8/8], Step [31/62], Val Loss: 0.5355, Acc: 82.6613\n",
      "Epoch [8/8], Step [62/62], Val Loss: 0.4816, Acc: 83.4677\n"
     ]
    }
   ],
   "source": [
    "# Train the model\n",
    "total_step = len(trainloader)\n",
    "val_total_step = len(val_loader)\n",
    "lossTr = []\n",
    "lossVal = []\n",
    "accTr = []\n",
    "accVal = []\n",
    "for epoch in range(num_epochs):\n",
    "    total = 0\n",
    "    correct = 0\n",
    "    for i, (images, segs, targets) in enumerate(trainloader):\n",
    "        images = images.to(device)\n",
    "        labels = targets.to(device)\n",
    "        \n",
    "        images = torch.reshape(images, (batch_size,3,16,16))\n",
    "        # Forward pass\n",
    "        outputs = model(images)\n",
    "        labels = labels.to(torch.long)\n",
    "        loss = criterion(outputs, labels)\n",
    "        _, predicted = torch.max(outputs.data, 1)\n",
    "        total += labels.size(0)\n",
    "        correct += (predicted == labels).sum().item()\n",
    "        \n",
    "        # Backward and optimize\n",
    "        optimizer.zero_grad()\n",
    "        loss.backward()\n",
    "        optimizer.step()\n",
    "         \n",
    "        if (i+1) % 31 == 0:\n",
    "            print ('Epoch [{}/{}], Step [{}/{}], Tr Loss: {:.4f}, Acc: {:.4f}' \n",
    "                   .format(epoch+1, num_epochs, i+1, total_step, loss.item(), 100 * correct / total))\n",
    "    lossTr.append(loss.item())\n",
    "    accTr.append(100 * correct/total)\n",
    "    \n",
    "    total = 0\n",
    "    correct = 0\n",
    "    for i, (images, segs, targets) in enumerate(val_loader):\n",
    "        images = images.to(device)\n",
    "        labels = targets.to(device)\n",
    "        \n",
    "        images = torch.reshape(images, (batch_size,3,16,16))\n",
    "        # Forward pass\n",
    "        outputs = model(images)\n",
    "        labels = labels.to(torch.long)\n",
    "        loss = criterion(outputs, labels)\n",
    "        _, predicted = torch.max(outputs.data, 1)\n",
    "        total += labels.size(0)\n",
    "        correct += (predicted == labels).sum().item()\n",
    "        \n",
    "        if (i+1) % 31 == 0:\n",
    "            print ('Epoch [{}/{}], Step [{}/{}], Val Loss: {:.4f}, Acc: {:.4f}' \n",
    "                   .format(epoch+1, num_epochs, i+1, val_total_step, loss.item(),100 * correct / total))\n",
    "    lossVal.append(loss.item())\n",
    "    accVal.append(100 * correct/total)"
   ]
  },
  {
   "cell_type": "code",
   "execution_count": 13,
   "metadata": {},
   "outputs": [
    {
     "data": {
      "image/png": "[encoded data removed]",
      "text/plain": [
       "<Figure size 432x288 with 2 Axes>"
      ]
     },
     "metadata": {
      "needs_background": "light"
     },
     "output_type": "display_data"
    }
   ],
   "source": [
    "from matplotlib.ticker import (MultipleLocator)\n",
    "\n",
    "lossVal=np.array(lossVal)\n",
    "lossTr=np.array(lossTr)\n",
    "\n",
    "accVal=np.array(accVal)\n",
    "accTr=np.array(accTr)\n",
    "\n",
    "x=np.arange(1, len(lossVal)+1, 1)\n",
    "fig, ax1=plt.subplots()\n",
    "\n",
    "color='tab:red'\n",
    "ax1.set_ylabel('loss', color=color,fontsize=13)\n",
    "ax1.plot(x,lossVal,color=color)\n",
    "ax1.plot(x,lossTr, color=color,linestyle='dashed')\n",
    "ax1.tick_params(axis='y', labelcolor=color)\n",
    "ax1.xaxis.set_major_locator(MultipleLocator(1))\n",
    "plt.xlabel('epoch', fontsize=13)\n",
    "plt.legend(['(solid) validation', '(dashed) train'], loc='best', handletextpad=0,\n",
    "           handlelength=0, fontsize=13)\n",
    "plt.title('Model loss and accuracy')\n",
    "\n",
    "\n",
    "color='tab:blue'\n",
    "ax2=ax1.twinx()\n",
    "ax2.set_ylabel('Accuracy', color=color, fontsize=13)\n",
    "ax2.plot(x,accVal,color=color)\n",
    "ax2.plot(x,accTr,color=color,linestyle='dashed')\n",
    "ax2.tick_params(axis='y', labelcolor=color)\n",
    "\n",
    "\n",
    "plt.show()"
   ]
  },
  {
   "cell_type": "code",
   "execution_count": 14,
   "metadata": {},
   "outputs": [
    {
     "name": "stdout",
     "output_type": "stream",
     "text": [
      "Test Accuracy of the model on the 1000 test images: 83.4 %\n",
      "[[ 83   0   1   1   2   0   4   0   2   2]\n",
      " [  1 104   1   0   1   0   1   2   6   1]\n",
      " [  1   4  63  12   3   0   0   2   3   2]\n",
      " [  0   0   2 103   0   8   0   1   7   2]\n",
      " [  0   0   2   0  76   1   1   1   3   3]\n",
      " [  0   0   0   3   0  84   0   0   2   0]\n",
      " [  2   1   3   2   3   6  84   0   6   0]\n",
      " [  1   0   1   2   2   2   1  89   0   9]\n",
      " [  1   1   4   6   2   1   0   0  72   3]\n",
      " [  1   0   1   0   8   1   0   4   4  76]]\n"
     ]
    }
   ],
   "source": [
    "# Test the model\n",
    "model.eval()  # eval mode (batchnorm uses moving mean/variance instead of mini-batch mean/variance)\n",
    "predictions = []\n",
    "expected = []\n",
    "with torch.no_grad():\n",
    "    correct = 0\n",
    "    total = 0\n",
    "    for i, (images, segs, targets) in enumerate(testloader):\n",
    "        images = images.to(device)\n",
    "        labels = targets.to(device)\n",
    "        images = torch.reshape(images,(batch_size,3,16,16))\n",
    "        outputs = model(images)\n",
    "        _, predicted = torch.max(outputs.data, 1)\n",
    "        total += labels.size(0)\n",
    "        correct += (predicted == labels).sum().item()\n",
    "        predictions += list(predicted)\n",
    "        expected += list(labels)\n",
    "\n",
    "print('Test Accuracy of the model on the 1000 test images: {} %'.format(100 * correct / total))\n",
    "\n",
    "predictions_amax = np.array(predictions)\n",
    "expected_amax = np.array(expected)\n",
    "\n",
    "\n",
    "cfm = confusion_matrix(predictions_amax, expected_amax)\n",
    "print(cfm)"
   ]
  },
  {
   "cell_type": "markdown",
   "metadata": {},
   "source": [
    "### Discussion\n",
    "The classification model performed pretty well on the red 16 x 16 images with a test set accuracy of 83.2%."
   ]
  },
  {
   "cell_type": "markdown",
   "metadata": {},
   "source": [
    "## 16 x 16 Color Classification"
   ]
  },
  {
   "cell_type": "code",
   "execution_count": 15,
   "metadata": {},
   "outputs": [
    {
     "name": "stdout",
     "output_type": "stream",
     "text": [
      "Shape of the input image (10000, 16, 16, 3) (10000, 16, 16)\n",
      "Shape of the input image (10000, 3, 16, 16) (10000, 16, 16) (10000,)\n"
     ]
    }
   ],
   "source": [
    "mydata = SimpleDataset( \"./data1c/\", \"labels.csv\")\n",
    "\n",
    "#splitting into images and labels \n",
    "X  = []\n",
    "y  = []\n",
    "Xs = []\n",
    "for i in range(len(mydata)):\n",
    "    X.append(mydata[i][0])\n",
    "    y.append((mydata[i][1]))\n",
    "    Xs.append(mydata[i][2])\n",
    "\n",
    "\n",
    "#converting into numpy arrays to enable easy reshaping and other array operations\n",
    "    \n",
    "X  = np.asarray(X)\n",
    "Xs = np.asarray(Xs)\n",
    "print(\"Shape of the input image\", X.shape, Xs.shape)\n",
    "y= np.asarray(y)\n",
    "\n",
    "X  = np.swapaxes(X,1,3)\n",
    "X  = np.swapaxes(X,2,3)\n",
    "print(\"Shape of the input image\", X.shape, Xs.shape,y.shape)"
   ]
  },
  {
   "cell_type": "code",
   "execution_count": 16,
   "metadata": {},
   "outputs": [
    {
     "name": "stdout",
     "output_type": "stream",
     "text": [
      "(1000, 3, 16, 16) (1000, 16, 16) (1000,)\n",
      "(500, 3, 16, 16) (500, 16, 16) (500,)\n",
      "(1000, 3, 16, 16) (1000, 16, 16) (1000,)\n"
     ]
    }
   ],
   "source": [
    "Xtr=X[:1000,:,:,:]/255\n",
    "Xstr=Xs[:1000,:,:]/255\n",
    "ytr=y[:1000]\n",
    "\n",
    "Xval=X[3500:4000,:,:,:]/255 \n",
    "Xsval=Xs[3500:4000,:,:]/255\n",
    "yval=y[3500:4000]\n",
    "\n",
    "Xte=X[-1000:,:,:,:]/255 \n",
    "Xste=Xs[-1000:,:,:]/255\n",
    "yte=y[-1000:]\n",
    "\n",
    "\n",
    "print(Xtr.shape,Xstr.shape,ytr.shape)\n",
    "print(Xval.shape,Xsval.shape,yval.shape)\n",
    "print(Xte.shape,Xste.shape,yte.shape)"
   ]
  },
  {
   "cell_type": "code",
   "execution_count": 17,
   "metadata": {},
   "outputs": [
    {
     "name": "stdout",
     "output_type": "stream",
     "text": [
      "Size of inputs: torch.Size([1000, 3, 16, 16])\n",
      "Size of ground truth: torch.Size([1000, 16, 16])\n",
      "torch.Size([1000])\n"
     ]
    }
   ],
   "source": [
    "batch_size = 8\n",
    "targets=ytr\n",
    "\n",
    "inputs = torch.from_numpy(Xtr).float()\n",
    "targets = torch.from_numpy(targets).float()\n",
    "segs    = torch.from_numpy(Xstr).float()\n",
    "\n",
    "print('Size of inputs: {}'. format(inputs.shape))\n",
    "print('Size of ground truth: {}'. format(segs.shape))\n",
    "print(targets.shape)\n",
    "\n",
    "# Dataloader\n",
    "trainset = data_utils.TensorDataset(inputs, segs, targets)\n",
    "trainloader = torch.utils.data.DataLoader(trainset, batch_size= batch_size, \n",
    "                                          shuffle=True, drop_last=True)\n",
    "\n"
   ]
  },
  {
   "cell_type": "code",
   "execution_count": 18,
   "metadata": {},
   "outputs": [
    {
     "name": "stdout",
     "output_type": "stream",
     "text": [
      "Size of inputs: torch.Size([500, 3, 16, 16])\n",
      "Size of ground truth: torch.Size([500, 16, 16])\n",
      "torch.Size([500])\n"
     ]
    }
   ],
   "source": [
    "targets=yval\n",
    "inputs = torch.from_numpy(Xval).float()\n",
    "targets = torch.from_numpy(targets).float()\n",
    "segs    = torch.from_numpy(Xsval).float()\n",
    "\n",
    "print('Size of inputs: {}'. format(inputs.shape))\n",
    "print('Size of ground truth: {}'. format(segs.shape))\n",
    "print(targets.shape)\n",
    "\n",
    "# Dataloader\n",
    "valset = data_utils.TensorDataset(inputs, segs, targets)\n",
    "val_loader = torch.utils.data.DataLoader(valset, batch_size= batch_size, \n",
    "                                          shuffle=False, drop_last=True)"
   ]
  },
  {
   "cell_type": "code",
   "execution_count": 19,
   "metadata": {},
   "outputs": [
    {
     "name": "stdout",
     "output_type": "stream",
     "text": [
      "Size of inputs: torch.Size([1000, 3, 16, 16])\n",
      "Size of ground truth: torch.Size([1000, 16, 16])\n",
      "torch.Size([1000])\n"
     ]
    }
   ],
   "source": [
    "'''\n",
    "inputs and segs are your data. \n",
    "'''\n",
    "targets=yte\n",
    "\n",
    "inputs = torch.from_numpy(Xte).float()\n",
    "targets = torch.from_numpy(targets).float()\n",
    "segs    = torch.from_numpy(Xste).float()\n",
    "\n",
    "print('Size of inputs: {}'. format(inputs.shape))\n",
    "print('Size of ground truth: {}'. format(segs.shape))\n",
    "print(targets.shape)\n",
    "\n",
    "# Dataloader\n",
    "testset = data_utils.TensorDataset(inputs, segs, targets)\n",
    "testloader = torch.utils.data.DataLoader(testset, batch_size= batch_size, \n",
    "                                          shuffle=True, drop_last=True)\n",
    "\n"
   ]
  },
  {
   "cell_type": "code",
   "execution_count": 20,
   "metadata": {},
   "outputs": [],
   "source": [
    "device = torch.device('cuda:0' if torch.cuda.is_available() else 'cpu')\n",
    "\n",
    "# Hyper parameters\n",
    "num_epochs = 8\n",
    "num_classes = 10\n",
    "batch_size = 8\n",
    "learning_rate = 0.001\n"
   ]
  },
  {
   "cell_type": "code",
   "execution_count": 21,
   "metadata": {},
   "outputs": [],
   "source": [
    "# Convolutional neural network (two convolutional layers)\n",
    "class ConvNet(nn.Module):\n",
    "    def __init__(self, num_classes=10):\n",
    "        super(ConvNet, self).__init__()\n",
    "        self.layer1 = nn.Sequential(\n",
    "            nn.Conv2d(3, 16, kernel_size=5, stride=1, padding=2),\n",
    "            nn.BatchNorm2d(16),\n",
    "            nn.ReLU(),\n",
    "            nn.MaxPool2d(kernel_size=2, stride=2))\n",
    "        self.layer2 = nn.Sequential(\n",
    "            nn.Conv2d(16, 32, kernel_size=5, stride=1, padding=2),\n",
    "            nn.BatchNorm2d(32),\n",
    "            nn.ReLU(),\n",
    "            nn.MaxPool2d(kernel_size=2, stride=2))\n",
    "        self.fc = nn.Linear(4*4*32, num_classes)\n",
    "        \n",
    "    def forward(self, x):\n",
    "        out = self.layer1(x)\n",
    "        out = self.layer2(out)\n",
    "        out = out.reshape(out.size(0), -1)\n",
    "        out = self.fc(out)\n",
    "        return out\n",
    "    "
   ]
  },
  {
   "cell_type": "code",
   "execution_count": 22,
   "metadata": {},
   "outputs": [],
   "source": [
    "model = ConvNet(num_classes).to(device)"
   ]
  },
  {
   "cell_type": "code",
   "execution_count": 23,
   "metadata": {},
   "outputs": [],
   "source": [
    "# Loss and optimizer\n",
    "criterion = nn.CrossEntropyLoss()\n",
    "optimizer = torch.optim.Adam(model.parameters(), lr=learning_rate)"
   ]
  },
  {
   "cell_type": "code",
   "execution_count": 24,
   "metadata": {},
   "outputs": [
    {
     "name": "stdout",
     "output_type": "stream",
     "text": [
      "Epoch [1/8], Step [31/125], Tr Loss: 2.4918, Acc: 14.5161\n",
      "Epoch [1/8], Step [62/125], Tr Loss: 2.0484, Acc: 16.5323\n",
      "Epoch [1/8], Step [93/125], Tr Loss: 2.1660, Acc: 18.1452\n",
      "Epoch [1/8], Step [124/125], Tr Loss: 2.0608, Acc: 19.7581\n",
      "Epoch [1/8], Step [31/62], Val Loss: 2.2948, Acc: 31.4516\n",
      "Epoch [1/8], Step [62/62], Val Loss: 2.1543, Acc: 31.6532\n",
      "Epoch [2/8], Step [31/125], Tr Loss: 1.7606, Acc: 41.5323\n",
      "Epoch [2/8], Step [62/125], Tr Loss: 1.3532, Acc: 47.9839\n",
      "Epoch [2/8], Step [93/125], Tr Loss: 1.3588, Acc: 48.3871\n",
      "Epoch [2/8], Step [124/125], Tr Loss: 1.8718, Acc: 49.4960\n",
      "Epoch [2/8], Step [31/62], Val Loss: 2.0279, Acc: 47.5806\n",
      "Epoch [2/8], Step [62/62], Val Loss: 1.2122, Acc: 48.5887\n",
      "Epoch [3/8], Step [31/125], Tr Loss: 0.7138, Acc: 65.3226\n",
      "Epoch [3/8], Step [62/125], Tr Loss: 1.6244, Acc: 65.3226\n",
      "Epoch [3/8], Step [93/125], Tr Loss: 0.9747, Acc: 64.3817\n",
      "Epoch [3/8], Step [124/125], Tr Loss: 1.2709, Acc: 64.9194\n",
      "Epoch [3/8], Step [31/62], Val Loss: 1.8924, Acc: 61.2903\n",
      "Epoch [3/8], Step [62/62], Val Loss: 1.3574, Acc: 56.8548\n",
      "Epoch [4/8], Step [31/125], Tr Loss: 0.7731, Acc: 72.5806\n",
      "Epoch [4/8], Step [62/125], Tr Loss: 1.3754, Acc: 73.7903\n",
      "Epoch [4/8], Step [93/125], Tr Loss: 0.7977, Acc: 74.4624\n",
      "Epoch [4/8], Step [124/125], Tr Loss: 1.0336, Acc: 74.8992\n",
      "Epoch [4/8], Step [31/62], Val Loss: 1.4955, Acc: 61.6935\n",
      "Epoch [4/8], Step [62/62], Val Loss: 1.9230, Acc: 60.4839\n",
      "Epoch [5/8], Step [31/125], Tr Loss: 1.2377, Acc: 85.4839\n",
      "Epoch [5/8], Step [62/125], Tr Loss: 0.5693, Acc: 85.0806\n",
      "Epoch [5/8], Step [93/125], Tr Loss: 0.5673, Acc: 85.0806\n",
      "Epoch [5/8], Step [124/125], Tr Loss: 0.5710, Acc: 82.0565\n",
      "Epoch [5/8], Step [31/62], Val Loss: 1.5317, Acc: 63.7097\n",
      "Epoch [5/8], Step [62/62], Val Loss: 1.2939, Acc: 60.2823\n",
      "Epoch [6/8], Step [31/125], Tr Loss: 0.3043, Acc: 91.5323\n",
      "Epoch [6/8], Step [62/125], Tr Loss: 0.7096, Acc: 91.3306\n",
      "Epoch [6/8], Step [93/125], Tr Loss: 0.4757, Acc: 89.3817\n",
      "Epoch [6/8], Step [124/125], Tr Loss: 0.6442, Acc: 88.9113\n",
      "Epoch [6/8], Step [31/62], Val Loss: 1.3626, Acc: 64.9194\n",
      "Epoch [6/8], Step [62/62], Val Loss: 0.8338, Acc: 63.5081\n",
      "Epoch [7/8], Step [31/125], Tr Loss: 0.2199, Acc: 92.3387\n",
      "Epoch [7/8], Step [62/125], Tr Loss: 0.4190, Acc: 93.1452\n",
      "Epoch [7/8], Step [93/125], Tr Loss: 0.9066, Acc: 93.2796\n",
      "Epoch [7/8], Step [124/125], Tr Loss: 0.2416, Acc: 92.7419\n",
      "Epoch [7/8], Step [31/62], Val Loss: 1.5949, Acc: 66.5323\n",
      "Epoch [7/8], Step [62/62], Val Loss: 0.7043, Acc: 66.9355\n",
      "Epoch [8/8], Step [31/125], Tr Loss: 0.0675, Acc: 97.1774\n",
      "Epoch [8/8], Step [62/125], Tr Loss: 0.1597, Acc: 97.5806\n",
      "Epoch [8/8], Step [93/125], Tr Loss: 0.2812, Acc: 97.1774\n",
      "Epoch [8/8], Step [124/125], Tr Loss: 0.3587, Acc: 96.1694\n",
      "Epoch [8/8], Step [31/62], Val Loss: 1.1631, Acc: 70.1613\n",
      "Epoch [8/8], Step [62/62], Val Loss: 1.0582, Acc: 67.7419\n"
     ]
    }
   ],
   "source": [
    "# Train the model\n",
    "total_step = len(trainloader)\n",
    "val_total_step = len(val_loader)\n",
    "lossTr = []\n",
    "lossVal = []\n",
    "accTr = []\n",
    "accVal = []\n",
    "for epoch in range(num_epochs):\n",
    "    total = 0\n",
    "    correct = 0\n",
    "    for i, (images, segs, targets) in enumerate(trainloader):\n",
    "        images = images.to(device)\n",
    "        labels = targets.to(device)\n",
    "        \n",
    "        images = torch.reshape(images, (batch_size,3,16,16))\n",
    "        # Forward pass\n",
    "        outputs = model(images)\n",
    "        labels = labels.to(torch.long)\n",
    "        loss = criterion(outputs, labels)\n",
    "        _, predicted = torch.max(outputs.data, 1)\n",
    "        total += labels.size(0)\n",
    "        correct += (predicted == labels).sum().item()\n",
    "        \n",
    "        # Backward and optimize\n",
    "        optimizer.zero_grad()\n",
    "        loss.backward()\n",
    "        optimizer.step()\n",
    "         \n",
    "        if (i+1) % 31 == 0:\n",
    "            print ('Epoch [{}/{}], Step [{}/{}], Tr Loss: {:.4f}, Acc: {:.4f}' \n",
    "                   .format(epoch+1, num_epochs, i+1, total_step, loss.item(), 100 * correct / total))\n",
    "    lossTr.append(loss.item())\n",
    "    accTr.append(100 * correct/total)\n",
    "    \n",
    "    total = 0\n",
    "    correct = 0\n",
    "    for i, (images, segs, targets) in enumerate(val_loader):\n",
    "        images = images.to(device)\n",
    "        labels = targets.to(device)\n",
    "        \n",
    "        images = torch.reshape(images, (batch_size,3,16,16))\n",
    "        # Forward pass\n",
    "        outputs = model(images)\n",
    "        labels = labels.to(torch.long)\n",
    "        loss = criterion(outputs, labels)\n",
    "        _, predicted = torch.max(outputs.data, 1)\n",
    "        total += labels.size(0)\n",
    "        correct += (predicted == labels).sum().item()\n",
    "        \n",
    "        if (i+1) % 31 == 0:\n",
    "            print ('Epoch [{}/{}], Step [{}/{}], Val Loss: {:.4f}, Acc: {:.4f}' \n",
    "                   .format(epoch+1, num_epochs, i+1, val_total_step, loss.item(),100 * correct / total))\n",
    "    lossVal.append(loss.item())\n",
    "    accVal.append(100 * correct/total)"
   ]
  },
  {
   "cell_type": "code",
   "execution_count": 25,
   "metadata": {},
   "outputs": [
    {
     "data": {
      "image/png": "[encoded data removed]",
      "text/plain": [
       "<Figure size 432x288 with 2 Axes>"
      ]
     },
     "metadata": {
      "needs_background": "light"
     },
     "output_type": "display_data"
    }
   ],
   "source": [
    "from matplotlib.ticker import (MultipleLocator)\n",
    "\n",
    "lossVal=np.array(lossVal)\n",
    "lossTr=np.array(lossTr)\n",
    "\n",
    "accVal=np.array(accVal)\n",
    "accTr=np.array(accTr)\n",
    "\n",
    "x=np.arange(1, len(lossVal)+1, 1)\n",
    "fig, ax1=plt.subplots()\n",
    "\n",
    "color='tab:red'\n",
    "ax1.set_ylabel('loss', color=color,fontsize=13)\n",
    "ax1.plot(x,lossVal,color=color)\n",
    "ax1.plot(x,lossTr, color=color,linestyle='dashed')\n",
    "ax1.tick_params(axis='y', labelcolor=color)\n",
    "ax1.xaxis.set_major_locator(MultipleLocator(1))\n",
    "plt.xlabel('epoch', fontsize=13)\n",
    "plt.legend(['(solid) validation', '(dashed) train'], loc='best', handletextpad=0,\n",
    "           handlelength=0, fontsize=13)\n",
    "plt.title('Model loss and accuracy')\n",
    "\n",
    "\n",
    "color='tab:blue'\n",
    "ax2=ax1.twinx()\n",
    "ax2.set_ylabel('Accuracy', color=color, fontsize=13)\n",
    "ax2.plot(x,accVal,color=color)\n",
    "ax2.plot(x,accTr,color=color,linestyle='dashed')\n",
    "ax2.tick_params(axis='y', labelcolor=color)\n",
    "\n",
    "\n",
    "plt.show()"
   ]
  },
  {
   "cell_type": "code",
   "execution_count": 26,
   "metadata": {},
   "outputs": [
    {
     "name": "stdout",
     "output_type": "stream",
     "text": [
      "Test Accuracy of the model on the 1000 test images: 69.2 %\n",
      "[[ 76   0   2   3   2   4   7   3   7   3]\n",
      " [  2 102   4   0   7   2   9   5   8   9]\n",
      " [  0   1  39   5   0   0   0   1   0   0]\n",
      " [  2   2  12  94   1  10   2   5  15   6]\n",
      " [  2   2   2   4  68   0   5   2   5   7]\n",
      " [  1   0   3   3   0  72   2   0   2   1]\n",
      " [  4   0   4   0   3   7  64   0   7   0]\n",
      " [  2   1   6   2   1   3   0  69   5   5]\n",
      " [  1   0   5   8   2   2   0   0  44   3]\n",
      " [  0   2   1  10  13   3   2  14  12  64]]\n"
     ]
    }
   ],
   "source": [
    "# Test the model\n",
    "predictions = []\n",
    "expected = []\n",
    "model.eval()  # eval mode (batchnorm uses moving mean/variance instead of mini-batch mean/variance)\n",
    "with torch.no_grad():\n",
    "    correct = 0\n",
    "    total = 0\n",
    "    for i, (images, segs, targets) in enumerate(testloader):\n",
    "        images = images.to(device)\n",
    "        labels = targets.to(device)\n",
    "        images = torch.reshape(images,(batch_size,3,16,16))\n",
    "        outputs = model(images)\n",
    "        _, predicted = torch.max(outputs.data, 1)\n",
    "        total += labels.size(0)\n",
    "        correct += (predicted == labels).sum().item()\n",
    "        predictions += list(predicted)\n",
    "        expected += list(labels)\n",
    "        \n",
    "print('Test Accuracy of the model on the 1000 test images: {} %'.format(100 * correct / total))\n",
    "predictions_amax = np.array(predictions)\n",
    "expected_amax = np.array(expected)\n",
    "\n",
    "\n",
    "cfm = confusion_matrix(predictions_amax, expected_amax)\n",
    "print(cfm)"
   ]
  },
  {
   "cell_type": "markdown",
   "metadata": {},
   "source": [
    "### Discussion\n",
    "The classification model performed slighty worse on the color 16 x 16 images with a test set accuracy of 69.2% due to variations in image rgb channels."
   ]
  },
  {
   "cell_type": "markdown",
   "metadata": {},
   "source": [
    "## 32 x 32 Red Classification"
   ]
  },
  {
   "cell_type": "code",
   "execution_count": 27,
   "metadata": {},
   "outputs": [
    {
     "name": "stdout",
     "output_type": "stream",
     "text": [
      "Shape of the input image (5000, 32, 32, 3) (5000, 32, 32)\n",
      "Shape of the input image (5000, 3, 32, 32) (5000, 32, 32) (5000,)\n"
     ]
    }
   ],
   "source": [
    "mydata = SimpleDataset( \"./data2/\", \"labels.csv\")\n",
    "\n",
    "#splitting into images and labels \n",
    "X  = []\n",
    "y  = []\n",
    "Xs = []\n",
    "for i in range(len(mydata)):\n",
    "    X.append(mydata[i][0])\n",
    "    y.append((mydata[i][1]))\n",
    "    Xs.append(mydata[i][2])\n",
    "\n",
    "\n",
    "#converting into numpy arrays to enable easy reshaping and other array operations\n",
    "    \n",
    "X  = np.asarray(X)\n",
    "Xs = np.asarray(Xs)\n",
    "print(\"Shape of the input image\", X.shape, Xs.shape)\n",
    "y= np.asarray(y)\n",
    "\n",
    "X  = np.swapaxes(X,1,3)\n",
    "X  = np.swapaxes(X,2,3)\n",
    "print(\"Shape of the input image\", X.shape, Xs.shape,y.shape)"
   ]
  },
  {
   "cell_type": "code",
   "execution_count": 28,
   "metadata": {},
   "outputs": [
    {
     "name": "stdout",
     "output_type": "stream",
     "text": [
      "(1000, 3, 32, 32) (1000, 32, 32) (1000,)\n",
      "(500, 3, 32, 32) (500, 32, 32) (500,)\n",
      "(1000, 3, 32, 32) (1000, 32, 32) (1000,)\n"
     ]
    }
   ],
   "source": [
    "Xtr=X[:1000,:,:,:]/255\n",
    "Xstr=Xs[:1000,:,:]/255\n",
    "ytr=y[:1000]\n",
    "\n",
    "Xval=X[3500:4000,:,:,:]/255 \n",
    "Xsval=Xs[3500:4000,:,:]/255\n",
    "yval=y[3500:4000]\n",
    "\n",
    "Xte=X[-1000:,:,:,:]/255 \n",
    "Xste=Xs[-1000:,:,:]/255\n",
    "yte=y[-1000:]\n",
    "\n",
    "\n",
    "print(Xtr.shape,Xstr.shape,ytr.shape)\n",
    "print(Xval.shape,Xsval.shape,yval.shape)\n",
    "print(Xte.shape,Xste.shape,yte.shape)"
   ]
  },
  {
   "cell_type": "code",
   "execution_count": 29,
   "metadata": {},
   "outputs": [
    {
     "name": "stdout",
     "output_type": "stream",
     "text": [
      "Size of inputs: torch.Size([1000, 3, 32, 32])\n",
      "Size of ground truth: torch.Size([1000, 32, 32])\n",
      "torch.Size([1000])\n"
     ]
    }
   ],
   "source": [
    "batch_size = 8\n",
    "targets=ytr\n",
    "\n",
    "inputs = torch.from_numpy(Xtr).float()\n",
    "targets = torch.from_numpy(targets).float()\n",
    "segs    = torch.from_numpy(Xstr).float()\n",
    "\n",
    "print('Size of inputs: {}'. format(inputs.shape))\n",
    "print('Size of ground truth: {}'. format(segs.shape))\n",
    "print(targets.shape)\n",
    "\n",
    "# Dataloader\n",
    "trainset = data_utils.TensorDataset(inputs, segs, targets)\n",
    "trainloader = torch.utils.data.DataLoader(trainset, batch_size= batch_size, \n",
    "                                          shuffle=True, drop_last=True)\n",
    "\n"
   ]
  },
  {
   "cell_type": "code",
   "execution_count": 30,
   "metadata": {},
   "outputs": [
    {
     "name": "stdout",
     "output_type": "stream",
     "text": [
      "Size of inputs: torch.Size([500, 3, 32, 32])\n",
      "Size of ground truth: torch.Size([500, 32, 32])\n",
      "torch.Size([500])\n"
     ]
    }
   ],
   "source": [
    "targets=yval\n",
    "inputs = torch.from_numpy(Xval).float()\n",
    "targets = torch.from_numpy(targets).float()\n",
    "segs    = torch.from_numpy(Xsval).float()\n",
    "\n",
    "print('Size of inputs: {}'. format(inputs.shape))\n",
    "print('Size of ground truth: {}'. format(segs.shape))\n",
    "print(targets.shape)\n",
    "\n",
    "# Dataloader\n",
    "valset = data_utils.TensorDataset(inputs, segs, targets)\n",
    "val_loader = torch.utils.data.DataLoader(valset, batch_size= batch_size, \n",
    "                                          shuffle=False, drop_last=True)"
   ]
  },
  {
   "cell_type": "code",
   "execution_count": 31,
   "metadata": {},
   "outputs": [
    {
     "name": "stdout",
     "output_type": "stream",
     "text": [
      "Size of inputs: torch.Size([1000, 3, 32, 32])\n",
      "Size of ground truth: torch.Size([1000, 32, 32])\n",
      "torch.Size([1000])\n"
     ]
    }
   ],
   "source": [
    "'''\n",
    "inputs and segs are your data. \n",
    "'''\n",
    "targets=yte\n",
    "\n",
    "inputs = torch.from_numpy(Xte).float()\n",
    "targets = torch.from_numpy(targets).float()\n",
    "segs    = torch.from_numpy(Xste).float()\n",
    "\n",
    "print('Size of inputs: {}'. format(inputs.shape))\n",
    "print('Size of ground truth: {}'. format(segs.shape))\n",
    "print(targets.shape)\n",
    "\n",
    "# Dataloader\n",
    "testset = data_utils.TensorDataset(inputs, segs, targets)\n",
    "testloader = torch.utils.data.DataLoader(testset, batch_size= batch_size, \n",
    "                                          shuffle=True, drop_last=True)\n",
    "\n"
   ]
  },
  {
   "cell_type": "code",
   "execution_count": 32,
   "metadata": {},
   "outputs": [],
   "source": [
    "device = torch.device('cuda:0' if torch.cuda.is_available() else 'cpu')\n",
    "\n",
    "# Hyper parameters\n",
    "num_epochs = 15\n",
    "num_classes = 10\n",
    "batch_size = 8\n",
    "learning_rate = 0.005\n"
   ]
  },
  {
   "cell_type": "code",
   "execution_count": 33,
   "metadata": {},
   "outputs": [],
   "source": [
    "# Convolutional neural network (two convolutional layers)\n",
    "class ConvNet(nn.Module):\n",
    "    def __init__(self, num_classes=10):\n",
    "        super(ConvNet, self).__init__()\n",
    "        self.layer1 = nn.Sequential(\n",
    "            nn.Conv2d(3, 32, kernel_size=5, stride=1, padding=2),\n",
    "            nn.BatchNorm2d(32),\n",
    "            nn.ReLU(),\n",
    "            nn.MaxPool2d(kernel_size=2, stride=2))\n",
    "        self.layer2 = nn.Sequential(\n",
    "            nn.Conv2d(32, 32, kernel_size=5, stride=1, padding=2),\n",
    "            nn.BatchNorm2d(32),\n",
    "            nn.ReLU(),\n",
    "            nn.MaxPool2d(kernel_size=2, stride=2))\n",
    "        self.fc = nn.Linear(4*16*32, num_classes)\n",
    "        \n",
    "    def forward(self, x):\n",
    "        out = self.layer1(x)\n",
    "        out = self.layer2(out)\n",
    "        out = out.reshape(out.size(0), -1)\n",
    "        out = self.fc(out)\n",
    "        return out\n",
    "    "
   ]
  },
  {
   "cell_type": "code",
   "execution_count": 34,
   "metadata": {},
   "outputs": [],
   "source": [
    "model = ConvNet(num_classes).to(device)"
   ]
  },
  {
   "cell_type": "code",
   "execution_count": 35,
   "metadata": {},
   "outputs": [],
   "source": [
    "# Loss and optimizer\n",
    "criterion = nn.CrossEntropyLoss()\n",
    "optimizer = torch.optim.Adam(model.parameters(), lr=learning_rate)"
   ]
  },
  {
   "cell_type": "code",
   "execution_count": 36,
   "metadata": {},
   "outputs": [
    {
     "name": "stdout",
     "output_type": "stream",
     "text": [
      "Epoch [1/15], Step [31/125], Tr Loss: 2.8219, Acc: 7.2581\n",
      "Epoch [1/15], Step [62/125], Tr Loss: 3.4898, Acc: 8.2661\n",
      "Epoch [1/15], Step [93/125], Tr Loss: 2.8169, Acc: 8.1989\n",
      "Epoch [1/15], Step [124/125], Tr Loss: 2.2623, Acc: 8.5685\n",
      "Epoch [1/15], Step [31/62], Val Loss: 2.3440, Acc: 10.0806\n",
      "Epoch [1/15], Step [62/62], Val Loss: 2.2599, Acc: 8.8710\n",
      "Epoch [2/15], Step [31/125], Tr Loss: 2.2118, Acc: 12.9032\n",
      "Epoch [2/15], Step [62/125], Tr Loss: 2.2582, Acc: 11.6935\n",
      "Epoch [2/15], Step [93/125], Tr Loss: 2.2951, Acc: 12.3656\n",
      "Epoch [2/15], Step [124/125], Tr Loss: 2.2002, Acc: 12.6008\n",
      "Epoch [2/15], Step [31/62], Val Loss: 2.2814, Acc: 12.9032\n",
      "Epoch [2/15], Step [62/62], Val Loss: 2.3281, Acc: 10.4839\n",
      "Epoch [3/15], Step [31/125], Tr Loss: 2.2872, Acc: 15.7258\n",
      "Epoch [3/15], Step [62/125], Tr Loss: 2.2287, Acc: 15.9274\n",
      "Epoch [3/15], Step [93/125], Tr Loss: 2.3607, Acc: 16.1290\n",
      "Epoch [3/15], Step [124/125], Tr Loss: 2.2753, Acc: 15.9274\n",
      "Epoch [3/15], Step [31/62], Val Loss: 2.3715, Acc: 10.0806\n",
      "Epoch [3/15], Step [62/62], Val Loss: 2.3631, Acc: 10.0806\n",
      "Epoch [4/15], Step [31/125], Tr Loss: 2.2377, Acc: 20.5645\n",
      "Epoch [4/15], Step [62/125], Tr Loss: 2.0571, Acc: 19.3548\n",
      "Epoch [4/15], Step [93/125], Tr Loss: 2.4050, Acc: 18.5484\n",
      "Epoch [4/15], Step [124/125], Tr Loss: 2.2096, Acc: 18.0444\n",
      "Epoch [4/15], Step [31/62], Val Loss: 2.2543, Acc: 12.9032\n",
      "Epoch [4/15], Step [62/62], Val Loss: 2.3374, Acc: 10.6855\n",
      "Epoch [5/15], Step [31/125], Tr Loss: 2.0302, Acc: 22.5806\n",
      "Epoch [5/15], Step [62/125], Tr Loss: 2.4645, Acc: 22.5806\n",
      "Epoch [5/15], Step [93/125], Tr Loss: 2.0777, Acc: 22.8495\n",
      "Epoch [5/15], Step [124/125], Tr Loss: 2.2230, Acc: 21.5726\n",
      "Epoch [5/15], Step [31/62], Val Loss: 2.3586, Acc: 10.4839\n",
      "Epoch [5/15], Step [62/62], Val Loss: 2.3004, Acc: 10.8871\n",
      "Epoch [6/15], Step [31/125], Tr Loss: 1.8540, Acc: 27.0161\n",
      "Epoch [6/15], Step [62/125], Tr Loss: 1.7269, Acc: 23.3871\n",
      "Epoch [6/15], Step [93/125], Tr Loss: 2.0418, Acc: 21.7742\n",
      "Epoch [6/15], Step [124/125], Tr Loss: 2.2096, Acc: 22.6815\n",
      "Epoch [6/15], Step [31/62], Val Loss: 2.7084, Acc: 11.2903\n",
      "Epoch [6/15], Step [62/62], Val Loss: 2.4192, Acc: 9.8790\n",
      "Epoch [7/15], Step [31/125], Tr Loss: 1.9468, Acc: 24.1935\n",
      "Epoch [7/15], Step [62/125], Tr Loss: 1.9294, Acc: 26.4113\n",
      "Epoch [7/15], Step [93/125], Tr Loss: 1.8924, Acc: 25.6720\n",
      "Epoch [7/15], Step [124/125], Tr Loss: 2.2353, Acc: 25.2016\n",
      "Epoch [7/15], Step [31/62], Val Loss: 2.8752, Acc: 12.0968\n",
      "Epoch [7/15], Step [62/62], Val Loss: 2.3767, Acc: 10.0806\n",
      "Epoch [8/15], Step [31/125], Tr Loss: 1.6630, Acc: 40.3226\n",
      "Epoch [8/15], Step [62/125], Tr Loss: 2.1673, Acc: 33.6694\n",
      "Epoch [8/15], Step [93/125], Tr Loss: 2.1508, Acc: 31.9892\n",
      "Epoch [8/15], Step [124/125], Tr Loss: 1.5370, Acc: 30.5444\n",
      "Epoch [8/15], Step [31/62], Val Loss: 2.8856, Acc: 12.0968\n",
      "Epoch [8/15], Step [62/62], Val Loss: 2.6424, Acc: 10.6855\n",
      "Epoch [9/15], Step [31/125], Tr Loss: 1.7875, Acc: 42.7419\n",
      "Epoch [9/15], Step [62/125], Tr Loss: 1.6880, Acc: 42.3387\n",
      "Epoch [9/15], Step [93/125], Tr Loss: 1.7822, Acc: 40.1882\n",
      "Epoch [9/15], Step [124/125], Tr Loss: 1.7328, Acc: 38.6089\n",
      "Epoch [9/15], Step [31/62], Val Loss: 2.5546, Acc: 13.3065\n",
      "Epoch [9/15], Step [62/62], Val Loss: 2.4159, Acc: 12.5000\n",
      "Epoch [10/15], Step [31/125], Tr Loss: 1.0028, Acc: 52.4194\n",
      "Epoch [10/15], Step [62/125], Tr Loss: 1.8181, Acc: 49.5968\n",
      "Epoch [10/15], Step [93/125], Tr Loss: 1.5299, Acc: 46.6398\n",
      "Epoch [10/15], Step [124/125], Tr Loss: 2.2222, Acc: 45.0605\n",
      "Epoch [10/15], Step [31/62], Val Loss: 3.4074, Acc: 14.9194\n",
      "Epoch [10/15], Step [62/62], Val Loss: 2.2732, Acc: 13.5081\n",
      "Epoch [11/15], Step [31/125], Tr Loss: 1.2989, Acc: 65.7258\n",
      "Epoch [11/15], Step [62/125], Tr Loss: 1.1544, Acc: 59.2742\n",
      "Epoch [11/15], Step [93/125], Tr Loss: 1.2331, Acc: 56.0484\n",
      "Epoch [11/15], Step [124/125], Tr Loss: 1.2511, Acc: 53.5282\n",
      "Epoch [11/15], Step [31/62], Val Loss: 3.2485, Acc: 14.1129\n",
      "Epoch [11/15], Step [62/62], Val Loss: 2.1922, Acc: 13.1048\n",
      "Epoch [12/15], Step [31/125], Tr Loss: 1.1827, Acc: 70.5645\n",
      "Epoch [12/15], Step [62/125], Tr Loss: 1.3364, Acc: 66.1290\n",
      "Epoch [12/15], Step [93/125], Tr Loss: 1.9609, Acc: 63.4409\n",
      "Epoch [12/15], Step [124/125], Tr Loss: 1.1609, Acc: 62.1976\n",
      "Epoch [12/15], Step [31/62], Val Loss: 4.1831, Acc: 15.3226\n",
      "Epoch [12/15], Step [62/62], Val Loss: 2.6468, Acc: 14.7177\n",
      "Epoch [13/15], Step [31/125], Tr Loss: 0.8414, Acc: 72.5806\n",
      "Epoch [13/15], Step [62/125], Tr Loss: 1.1346, Acc: 72.5806\n",
      "Epoch [13/15], Step [93/125], Tr Loss: 0.3973, Acc: 70.5645\n",
      "Epoch [13/15], Step [124/125], Tr Loss: 1.3152, Acc: 69.8589\n",
      "Epoch [13/15], Step [31/62], Val Loss: 4.1236, Acc: 20.9677\n",
      "Epoch [13/15], Step [62/62], Val Loss: 3.2368, Acc: 16.5323\n",
      "Epoch [14/15], Step [31/125], Tr Loss: 1.0140, Acc: 82.6613\n",
      "Epoch [14/15], Step [62/125], Tr Loss: 1.4772, Acc: 78.8306\n",
      "Epoch [14/15], Step [93/125], Tr Loss: 0.5660, Acc: 77.2849\n",
      "Epoch [14/15], Step [124/125], Tr Loss: 0.5065, Acc: 75.7056\n",
      "Epoch [14/15], Step [31/62], Val Loss: 4.8443, Acc: 16.9355\n",
      "Epoch [14/15], Step [62/62], Val Loss: 2.1871, Acc: 14.7177\n",
      "Epoch [15/15], Step [31/125], Tr Loss: 0.3258, Acc: 89.1129\n",
      "Epoch [15/15], Step [62/125], Tr Loss: 0.4979, Acc: 86.4919\n",
      "Epoch [15/15], Step [93/125], Tr Loss: 0.4082, Acc: 85.6183\n",
      "Epoch [15/15], Step [124/125], Tr Loss: 0.6996, Acc: 83.3669\n",
      "Epoch [15/15], Step [31/62], Val Loss: 4.1125, Acc: 17.7419\n",
      "Epoch [15/15], Step [62/62], Val Loss: 2.7588, Acc: 14.7177\n"
     ]
    }
   ],
   "source": [
    "# Train the model\n",
    "total_step = len(trainloader)\n",
    "val_total_step = len(val_loader)\n",
    "lossTr = []\n",
    "lossVal = []\n",
    "accTr = []\n",
    "accVal = []\n",
    "for epoch in range(num_epochs):\n",
    "    total = 0\n",
    "    correct = 0\n",
    "    for i, (images, segs, targets) in enumerate(trainloader):\n",
    "        images = images.to(device)\n",
    "        labels = targets.to(device)\n",
    "        \n",
    "        images = torch.reshape(images, (batch_size,3,32,32))\n",
    "        # Forward pass\n",
    "        outputs = model(images)\n",
    "        labels = labels.to(torch.long)\n",
    "        loss = criterion(outputs, labels)\n",
    "        _, predicted = torch.max(outputs.data, 1)\n",
    "        total += labels.size(0)\n",
    "        correct += (predicted == labels).sum().item()\n",
    "        \n",
    "        # Backward and optimize\n",
    "        optimizer.zero_grad()\n",
    "        loss.backward()\n",
    "        optimizer.step()\n",
    "         \n",
    "        if (i+1) % 31 == 0:\n",
    "            print ('Epoch [{}/{}], Step [{}/{}], Tr Loss: {:.4f}, Acc: {:.4f}' \n",
    "                   .format(epoch+1, num_epochs, i+1, total_step, loss.item(), 100 * correct / total))\n",
    "    lossTr.append(loss.item())\n",
    "    accTr.append(100 * correct/total)\n",
    "    \n",
    "    total = 0\n",
    "    correct = 0\n",
    "    for i, (images, segs, targets) in enumerate(val_loader):\n",
    "        images = images.to(device)\n",
    "        labels = targets.to(device)\n",
    "        \n",
    "        images = torch.reshape(images, (batch_size,3,32,32))\n",
    "        # Forward pass\n",
    "        outputs = model(images)\n",
    "        labels = labels.to(torch.long)\n",
    "        loss = criterion(outputs, labels)\n",
    "        _, predicted = torch.max(outputs.data, 1)\n",
    "        total += labels.size(0)\n",
    "        correct += (predicted == labels).sum().item()\n",
    "        \n",
    "        if (i+1) % 31 == 0:\n",
    "            print ('Epoch [{}/{}], Step [{}/{}], Val Loss: {:.4f}, Acc: {:.4f}' \n",
    "                   .format(epoch+1, num_epochs, i+1, val_total_step, loss.item(),100 * correct / total))\n",
    "    lossVal.append(loss.item())\n",
    "    accVal.append(100 * correct/total)"
   ]
  },
  {
   "cell_type": "code",
   "execution_count": 37,
   "metadata": {},
   "outputs": [
    {
     "data": {
      "image/png": "[encoded data removed]",
      "text/plain": [
       "<Figure size 432x288 with 2 Axes>"
      ]
     },
     "metadata": {
      "needs_background": "light"
     },
     "output_type": "display_data"
    }
   ],
   "source": [
    "from matplotlib.ticker import (MultipleLocator)\n",
    "\n",
    "lossVal=np.array(lossVal)\n",
    "lossTr=np.array(lossTr)\n",
    "\n",
    "accVal=np.array(accVal)\n",
    "accTr=np.array(accTr)\n",
    "\n",
    "x=np.arange(1, len(lossVal)+1, 1)\n",
    "fig, ax1=plt.subplots()\n",
    "\n",
    "color='tab:red'\n",
    "ax1.set_ylabel('loss', color=color,fontsize=13)\n",
    "ax1.plot(x,lossVal,color=color)\n",
    "ax1.plot(x,lossTr, color=color,linestyle='dashed')\n",
    "ax1.tick_params(axis='y', labelcolor=color)\n",
    "ax1.xaxis.set_major_locator(MultipleLocator(1))\n",
    "plt.xlabel('epoch', fontsize=13)\n",
    "plt.legend(['(solid) validation', '(dashed) train'], loc='best', handletextpad=0,\n",
    "           handlelength=0, fontsize=13)\n",
    "plt.title('Model loss and accuracy')\n",
    "\n",
    "\n",
    "color='tab:blue'\n",
    "ax2=ax1.twinx()\n",
    "ax2.set_ylabel('Accuracy', color=color, fontsize=13)\n",
    "ax2.plot(x,accVal,color=color)\n",
    "ax2.plot(x,accTr,color=color,linestyle='dashed')\n",
    "ax2.tick_params(axis='y', labelcolor=color)\n",
    "\n",
    "\n",
    "plt.show()"
   ]
  },
  {
   "cell_type": "code",
   "execution_count": 38,
   "metadata": {},
   "outputs": [
    {
     "name": "stdout",
     "output_type": "stream",
     "text": [
      "Test Accuracy of the model on the 1000 test images: 16.8 %\n",
      "[[21  8 20 23  7 17  9 13 16 18]\n",
      " [ 7 62  4  1 14  5  6 13  7  4]\n",
      " [ 6  5  3  7  2  3  4  6  2  2]\n",
      " [12  4 17 14  8  8 12  5  7  9]\n",
      " [12 15 13 12 17  5 10 14 10 13]\n",
      " [10  5 11 10  9  6  4  7  9  6]\n",
      " [ 9  6 12  7 11  6 12  9  9 13]\n",
      " [11 14 10  6 15 10 14 13  9 11]\n",
      " [ 8  1  7 10  7  8 12  2 11 16]\n",
      " [11  5  9 16 15  3 11 13 10  9]]\n"
     ]
    }
   ],
   "source": [
    "# Test the model\n",
    "predictions = []\n",
    "expected = []\n",
    "model.eval()  # eval mode (batchnorm uses moving mean/variance instead of mini-batch mean/variance)\n",
    "with torch.no_grad():\n",
    "    correct = 0\n",
    "    total = 0\n",
    "    for i, (images, segs, targets) in enumerate(testloader):\n",
    "        images = images.to(device)\n",
    "        labels = targets.to(device)\n",
    "        images = torch.reshape(images,(batch_size,3,32,32))\n",
    "        outputs = model(images)\n",
    "        _, predicted = torch.max(outputs.data, 1)\n",
    "        total += labels.size(0)\n",
    "        correct += (predicted == labels).sum().item()\n",
    "        predictions += list(predicted)\n",
    "        expected += list(labels)\n",
    "        \n",
    "print('Test Accuracy of the model on the 1000 test images: {} %'.format(100 * correct / total))\n",
    "predictions_amax = np.array(predictions)\n",
    "expected_amax = np.array(expected)\n",
    "\n",
    "\n",
    "cfm = confusion_matrix(predictions_amax, expected_amax)\n",
    "print(cfm)"
   ]
  },
  {
   "cell_type": "markdown",
   "metadata": {},
   "source": [
    "### Discussion\n",
    "\n",
    "Based on the results, the classification model performed terribly on the 32 x 32 red test set with an accuracy of 16.8% possibly due to overfitting on the training set."
   ]
  },
  {
   "cell_type": "markdown",
   "metadata": {},
   "source": [
    "## 32 x 32 Color Classification"
   ]
  },
  {
   "cell_type": "code",
   "execution_count": 39,
   "metadata": {},
   "outputs": [
    {
     "name": "stdout",
     "output_type": "stream",
     "text": [
      "Shape of the input image (5000, 32, 32, 3) (5000, 32, 32)\n",
      "Shape of the input image (5000, 3, 32, 32) (5000, 32, 32) (5000,)\n"
     ]
    }
   ],
   "source": [
    "mydata = SimpleDataset( \"./data2c/\", \"labels.csv\")\n",
    "\n",
    "#splitting into images and labels \n",
    "X  = []\n",
    "y  = []\n",
    "Xs = []\n",
    "for i in range(len(mydata)):\n",
    "    X.append(mydata[i][0])\n",
    "    y.append((mydata[i][1]))\n",
    "    Xs.append(mydata[i][2])\n",
    "\n",
    "\n",
    "#converting into numpy arrays to enable easy reshaping and other array operations\n",
    "    \n",
    "X  = np.asarray(X)\n",
    "Xs = np.asarray(Xs)\n",
    "print(\"Shape of the input image\", X.shape, Xs.shape)\n",
    "y= np.asarray(y)\n",
    "\n",
    "X  = np.swapaxes(X,1,3)\n",
    "X  = np.swapaxes(X,2,3)\n",
    "print(\"Shape of the input image\", X.shape, Xs.shape,y.shape)"
   ]
  },
  {
   "cell_type": "code",
   "execution_count": 40,
   "metadata": {},
   "outputs": [
    {
     "name": "stdout",
     "output_type": "stream",
     "text": [
      "(1000, 3, 32, 32) (1000, 32, 32) (1000,)\n",
      "(500, 3, 32, 32) (500, 32, 32) (500,)\n",
      "(1000, 3, 32, 32) (1000, 32, 32) (1000,)\n"
     ]
    }
   ],
   "source": [
    "Xtr=X[:1000,:,:,:]/255\n",
    "Xstr=Xs[:1000,:,:]/255\n",
    "ytr=y[:1000]\n",
    "\n",
    "Xval=X[3500:4000,:,:,:]/255 \n",
    "Xsval=Xs[3500:4000,:,:]/255\n",
    "yval=y[3500:4000]\n",
    "\n",
    "Xte=X[-1000:,:,:,:]/255 \n",
    "Xste=Xs[-1000:,:,:]/255\n",
    "yte=y[-1000:]\n",
    "\n",
    "\n",
    "print(Xtr.shape,Xstr.shape,ytr.shape)\n",
    "print(Xval.shape,Xsval.shape,yval.shape)\n",
    "print(Xte.shape,Xste.shape,yte.shape)"
   ]
  },
  {
   "cell_type": "code",
   "execution_count": 41,
   "metadata": {},
   "outputs": [
    {
     "name": "stdout",
     "output_type": "stream",
     "text": [
      "Size of inputs: torch.Size([1000, 3, 32, 32])\n",
      "Size of ground truth: torch.Size([1000, 32, 32])\n",
      "torch.Size([1000])\n"
     ]
    }
   ],
   "source": [
    "batch_size = 8\n",
    "targets=ytr\n",
    "\n",
    "inputs = torch.from_numpy(Xtr).float()\n",
    "targets = torch.from_numpy(targets).float()\n",
    "segs    = torch.from_numpy(Xstr).float()\n",
    "\n",
    "print('Size of inputs: {}'. format(inputs.shape))\n",
    "print('Size of ground truth: {}'. format(segs.shape))\n",
    "print(targets.shape)\n",
    "\n",
    "# Dataloader\n",
    "trainset = data_utils.TensorDataset(inputs, segs, targets)\n",
    "trainloader = torch.utils.data.DataLoader(trainset, batch_size= batch_size, \n",
    "                                          shuffle=True, drop_last=True)\n",
    "\n"
   ]
  },
  {
   "cell_type": "code",
   "execution_count": 42,
   "metadata": {},
   "outputs": [
    {
     "name": "stdout",
     "output_type": "stream",
     "text": [
      "Size of inputs: torch.Size([500, 3, 32, 32])\n",
      "Size of ground truth: torch.Size([500, 32, 32])\n",
      "torch.Size([500])\n"
     ]
    }
   ],
   "source": [
    "targets=yval\n",
    "inputs = torch.from_numpy(Xval).float()\n",
    "targets = torch.from_numpy(targets).float()\n",
    "segs    = torch.from_numpy(Xsval).float()\n",
    "\n",
    "print('Size of inputs: {}'. format(inputs.shape))\n",
    "print('Size of ground truth: {}'. format(segs.shape))\n",
    "print(targets.shape)\n",
    "\n",
    "# Dataloader\n",
    "valset = data_utils.TensorDataset(inputs, segs, targets)\n",
    "val_loader = torch.utils.data.DataLoader(valset, batch_size= batch_size, \n",
    "                                          shuffle=False, drop_last=True)"
   ]
  },
  {
   "cell_type": "code",
   "execution_count": 43,
   "metadata": {},
   "outputs": [
    {
     "name": "stdout",
     "output_type": "stream",
     "text": [
      "Size of inputs: torch.Size([1000, 3, 32, 32])\n",
      "Size of ground truth: torch.Size([1000, 32, 32])\n",
      "torch.Size([1000])\n"
     ]
    }
   ],
   "source": [
    "'''\n",
    "inputs and segs are your data. \n",
    "'''\n",
    "targets=yte\n",
    "\n",
    "inputs = torch.from_numpy(Xte).float()\n",
    "targets = torch.from_numpy(targets).float()\n",
    "segs    = torch.from_numpy(Xste).float()\n",
    "\n",
    "print('Size of inputs: {}'. format(inputs.shape))\n",
    "print('Size of ground truth: {}'. format(segs.shape))\n",
    "print(targets.shape)\n",
    "\n",
    "# Dataloader\n",
    "testset = data_utils.TensorDataset(inputs, segs, targets)\n",
    "testloader = torch.utils.data.DataLoader(testset, batch_size= batch_size, \n",
    "                                          shuffle=True, drop_last=True)\n",
    "\n"
   ]
  },
  {
   "cell_type": "code",
   "execution_count": 44,
   "metadata": {},
   "outputs": [],
   "source": [
    "device = torch.device('cuda:0' if torch.cuda.is_available() else 'cpu')\n",
    "\n",
    "# Hyper parameters\n",
    "num_epochs = 15\n",
    "num_classes = 10\n",
    "batch_size = 8\n",
    "learning_rate = 0.005\n"
   ]
  },
  {
   "cell_type": "code",
   "execution_count": 45,
   "metadata": {},
   "outputs": [],
   "source": [
    "# Convolutional neural network (two convolutional layers)\n",
    "class ConvNet(nn.Module):\n",
    "    def __init__(self, num_classes=10):\n",
    "        super(ConvNet, self).__init__()\n",
    "        self.layer1 = nn.Sequential(\n",
    "            nn.Conv2d(3, 32, kernel_size=5, stride=1, padding=2),\n",
    "            nn.BatchNorm2d(32),\n",
    "            nn.ReLU(),\n",
    "            nn.MaxPool2d(kernel_size=2, stride=2))\n",
    "        self.layer2 = nn.Sequential(\n",
    "            nn.Conv2d(32, 32, kernel_size=5, stride=1, padding=2),\n",
    "            nn.BatchNorm2d(32),\n",
    "            nn.ReLU(),\n",
    "            nn.MaxPool2d(kernel_size=2, stride=2))\n",
    "        self.fc = nn.Linear(4*16*32, num_classes)\n",
    "        \n",
    "    def forward(self, x):\n",
    "        out = self.layer1(x)\n",
    "        out = self.layer2(out)\n",
    "        out = out.reshape(out.size(0), -1)\n",
    "        out = self.fc(out)\n",
    "        return out\n",
    "    "
   ]
  },
  {
   "cell_type": "code",
   "execution_count": 46,
   "metadata": {},
   "outputs": [],
   "source": [
    "model = ConvNet(num_classes).to(device)"
   ]
  },
  {
   "cell_type": "code",
   "execution_count": 47,
   "metadata": {},
   "outputs": [],
   "source": [
    "# Loss and optimizer\n",
    "criterion = nn.CrossEntropyLoss()\n",
    "optimizer = torch.optim.Adam(model.parameters(), lr=learning_rate)"
   ]
  },
  {
   "cell_type": "code",
   "execution_count": 48,
   "metadata": {},
   "outputs": [
    {
     "name": "stdout",
     "output_type": "stream",
     "text": [
      "Epoch [1/15], Step [31/125], Tr Loss: 4.8883, Acc: 10.0806\n",
      "Epoch [1/15], Step [62/125], Tr Loss: 3.2120, Acc: 11.4919\n",
      "Epoch [1/15], Step [93/125], Tr Loss: 3.0021, Acc: 10.2151\n",
      "Epoch [1/15], Step [124/125], Tr Loss: 2.4214, Acc: 10.5847\n",
      "Epoch [1/15], Step [31/62], Val Loss: 2.8614, Acc: 10.8871\n",
      "Epoch [1/15], Step [62/62], Val Loss: 2.3912, Acc: 9.0726\n",
      "Epoch [2/15], Step [31/125], Tr Loss: 2.2966, Acc: 12.9032\n",
      "Epoch [2/15], Step [62/125], Tr Loss: 2.2053, Acc: 14.3145\n",
      "Epoch [2/15], Step [93/125], Tr Loss: 2.0228, Acc: 13.5753\n",
      "Epoch [2/15], Step [124/125], Tr Loss: 2.2321, Acc: 14.3145\n",
      "Epoch [2/15], Step [31/62], Val Loss: 2.2640, Acc: 12.9032\n",
      "Epoch [2/15], Step [62/62], Val Loss: 2.2017, Acc: 11.8952\n",
      "Epoch [3/15], Step [31/125], Tr Loss: 2.3957, Acc: 18.9516\n",
      "Epoch [3/15], Step [62/125], Tr Loss: 2.0920, Acc: 18.1452\n",
      "Epoch [3/15], Step [93/125], Tr Loss: 1.8915, Acc: 18.0108\n",
      "Epoch [3/15], Step [124/125], Tr Loss: 2.1606, Acc: 17.2379\n",
      "Epoch [3/15], Step [31/62], Val Loss: 2.3134, Acc: 10.8871\n",
      "Epoch [3/15], Step [62/62], Val Loss: 2.2441, Acc: 10.0806\n",
      "Epoch [4/15], Step [31/125], Tr Loss: 2.2995, Acc: 24.1935\n",
      "Epoch [4/15], Step [62/125], Tr Loss: 2.3253, Acc: 21.9758\n",
      "Epoch [4/15], Step [93/125], Tr Loss: 2.0067, Acc: 20.9677\n",
      "Epoch [4/15], Step [124/125], Tr Loss: 2.0494, Acc: 20.5645\n",
      "Epoch [4/15], Step [31/62], Val Loss: 2.4911, Acc: 12.5000\n",
      "Epoch [4/15], Step [62/62], Val Loss: 2.3723, Acc: 10.6855\n",
      "Epoch [5/15], Step [31/125], Tr Loss: 2.0807, Acc: 24.1935\n",
      "Epoch [5/15], Step [62/125], Tr Loss: 2.0019, Acc: 23.3871\n",
      "Epoch [5/15], Step [93/125], Tr Loss: 2.1122, Acc: 22.3118\n",
      "Epoch [5/15], Step [124/125], Tr Loss: 2.1612, Acc: 21.3710\n",
      "Epoch [5/15], Step [31/62], Val Loss: 2.2943, Acc: 12.5000\n",
      "Epoch [5/15], Step [62/62], Val Loss: 2.5569, Acc: 11.2903\n",
      "Epoch [6/15], Step [31/125], Tr Loss: 2.2574, Acc: 22.5806\n",
      "Epoch [6/15], Step [62/125], Tr Loss: 2.0314, Acc: 23.1855\n",
      "Epoch [6/15], Step [93/125], Tr Loss: 2.0572, Acc: 24.4624\n",
      "Epoch [6/15], Step [124/125], Tr Loss: 1.9615, Acc: 23.7903\n",
      "Epoch [6/15], Step [31/62], Val Loss: 2.2743, Acc: 10.0806\n",
      "Epoch [6/15], Step [62/62], Val Loss: 2.3655, Acc: 9.4758\n",
      "Epoch [7/15], Step [31/125], Tr Loss: 2.0071, Acc: 31.0484\n",
      "Epoch [7/15], Step [62/125], Tr Loss: 2.0665, Acc: 28.2258\n",
      "Epoch [7/15], Step [93/125], Tr Loss: 2.2673, Acc: 28.8978\n",
      "Epoch [7/15], Step [124/125], Tr Loss: 2.4902, Acc: 28.3266\n",
      "Epoch [7/15], Step [31/62], Val Loss: 2.9193, Acc: 13.3065\n",
      "Epoch [7/15], Step [62/62], Val Loss: 2.4294, Acc: 12.2984\n",
      "Epoch [8/15], Step [31/125], Tr Loss: 2.3726, Acc: 42.7419\n",
      "Epoch [8/15], Step [62/125], Tr Loss: 2.2449, Acc: 38.7097\n",
      "Epoch [8/15], Step [93/125], Tr Loss: 1.7750, Acc: 34.0054\n",
      "Epoch [8/15], Step [124/125], Tr Loss: 1.9715, Acc: 33.5685\n",
      "Epoch [8/15], Step [31/62], Val Loss: 1.9677, Acc: 14.9194\n",
      "Epoch [8/15], Step [62/62], Val Loss: 2.5316, Acc: 13.7097\n",
      "Epoch [9/15], Step [31/125], Tr Loss: 1.3402, Acc: 47.9839\n",
      "Epoch [9/15], Step [62/125], Tr Loss: 1.4323, Acc: 48.3871\n",
      "Epoch [9/15], Step [93/125], Tr Loss: 1.7785, Acc: 45.2957\n",
      "Epoch [9/15], Step [124/125], Tr Loss: 2.0717, Acc: 42.5403\n",
      "Epoch [9/15], Step [31/62], Val Loss: 2.6717, Acc: 14.5161\n",
      "Epoch [9/15], Step [62/62], Val Loss: 2.7878, Acc: 12.2984\n",
      "Epoch [10/15], Step [31/125], Tr Loss: 1.4808, Acc: 57.6613\n",
      "Epoch [10/15], Step [62/125], Tr Loss: 1.2308, Acc: 56.0484\n",
      "Epoch [10/15], Step [93/125], Tr Loss: 1.8394, Acc: 53.3602\n",
      "Epoch [10/15], Step [124/125], Tr Loss: 1.2393, Acc: 51.8145\n",
      "Epoch [10/15], Step [31/62], Val Loss: 2.5082, Acc: 12.5000\n",
      "Epoch [10/15], Step [62/62], Val Loss: 2.9747, Acc: 11.6935\n",
      "Epoch [11/15], Step [31/125], Tr Loss: 0.9157, Acc: 69.3548\n",
      "Epoch [11/15], Step [62/125], Tr Loss: 0.8386, Acc: 67.3387\n",
      "Epoch [11/15], Step [93/125], Tr Loss: 1.2671, Acc: 66.2634\n",
      "Epoch [11/15], Step [124/125], Tr Loss: 1.9302, Acc: 63.8105\n",
      "Epoch [11/15], Step [31/62], Val Loss: 3.2314, Acc: 13.7097\n",
      "Epoch [11/15], Step [62/62], Val Loss: 3.2867, Acc: 13.3065\n",
      "Epoch [12/15], Step [31/125], Tr Loss: 0.8812, Acc: 79.4355\n",
      "Epoch [12/15], Step [62/125], Tr Loss: 0.7369, Acc: 76.6129\n",
      "Epoch [12/15], Step [93/125], Tr Loss: 0.6857, Acc: 74.0591\n",
      "Epoch [12/15], Step [124/125], Tr Loss: 0.6599, Acc: 71.3710\n",
      "Epoch [12/15], Step [31/62], Val Loss: 3.1707, Acc: 13.7097\n",
      "Epoch [12/15], Step [62/62], Val Loss: 3.6252, Acc: 12.7016\n",
      "Epoch [13/15], Step [31/125], Tr Loss: 0.6448, Acc: 82.2581\n",
      "Epoch [13/15], Step [62/125], Tr Loss: 0.6467, Acc: 82.6613\n",
      "Epoch [13/15], Step [93/125], Tr Loss: 1.0081, Acc: 79.5699\n",
      "Epoch [13/15], Step [124/125], Tr Loss: 0.4933, Acc: 78.7298\n",
      "Epoch [13/15], Step [31/62], Val Loss: 2.8465, Acc: 14.5161\n",
      "Epoch [13/15], Step [62/62], Val Loss: 4.2774, Acc: 12.9032\n",
      "Epoch [14/15], Step [31/125], Tr Loss: 0.7822, Acc: 90.7258\n",
      "Epoch [14/15], Step [62/125], Tr Loss: 0.4407, Acc: 88.9113\n",
      "Epoch [14/15], Step [93/125], Tr Loss: 0.5956, Acc: 87.3656\n",
      "Epoch [14/15], Step [124/125], Tr Loss: 0.6751, Acc: 84.8790\n",
      "Epoch [14/15], Step [31/62], Val Loss: 3.0906, Acc: 13.7097\n",
      "Epoch [14/15], Step [62/62], Val Loss: 4.2411, Acc: 13.9113\n",
      "Epoch [15/15], Step [31/125], Tr Loss: 0.2602, Acc: 91.9355\n",
      "Epoch [15/15], Step [62/125], Tr Loss: 0.2336, Acc: 90.3226\n",
      "Epoch [15/15], Step [93/125], Tr Loss: 0.0847, Acc: 90.4570\n",
      "Epoch [15/15], Step [124/125], Tr Loss: 0.2558, Acc: 89.8185\n",
      "Epoch [15/15], Step [31/62], Val Loss: 4.3430, Acc: 14.5161\n",
      "Epoch [15/15], Step [62/62], Val Loss: 4.5928, Acc: 14.5161\n"
     ]
    }
   ],
   "source": [
    "# Train the model\n",
    "total_step = len(trainloader)\n",
    "val_total_step = len(val_loader)\n",
    "lossTr = []\n",
    "lossVal = []\n",
    "accTr = []\n",
    "accVal = []\n",
    "for epoch in range(num_epochs):\n",
    "    total = 0\n",
    "    correct = 0\n",
    "    for i, (images, segs, targets) in enumerate(trainloader):\n",
    "        images = images.to(device)\n",
    "        labels = targets.to(device)\n",
    "        \n",
    "        images = torch.reshape(images, (batch_size,3,32,32))\n",
    "        # Forward pass\n",
    "        outputs = model(images)\n",
    "        labels = labels.to(torch.long)\n",
    "        loss = criterion(outputs, labels)\n",
    "        _, predicted = torch.max(outputs.data, 1)\n",
    "        total += labels.size(0)\n",
    "        correct += (predicted == labels).sum().item()\n",
    "        \n",
    "        # Backward and optimize\n",
    "        optimizer.zero_grad()\n",
    "        loss.backward()\n",
    "        optimizer.step()\n",
    "         \n",
    "        if (i+1) % 31 == 0:\n",
    "            print ('Epoch [{}/{}], Step [{}/{}], Tr Loss: {:.4f}, Acc: {:.4f}' \n",
    "                   .format(epoch+1, num_epochs, i+1, total_step, loss.item(), 100 * correct / total))\n",
    "    lossTr.append(loss.item())\n",
    "    accTr.append(100 * correct/total)\n",
    "    \n",
    "    total = 0\n",
    "    correct = 0\n",
    "    for i, (images, segs, targets) in enumerate(val_loader):\n",
    "        images = images.to(device)\n",
    "        labels = targets.to(device)\n",
    "        \n",
    "        images = torch.reshape(images, (batch_size,3,32,32))\n",
    "        # Forward pass\n",
    "        outputs = model(images)\n",
    "        labels = labels.to(torch.long)\n",
    "        loss = criterion(outputs, labels)\n",
    "        _, predicted = torch.max(outputs.data, 1)\n",
    "        total += labels.size(0)\n",
    "        correct += (predicted == labels).sum().item()\n",
    "        \n",
    "        if (i+1) % 31 == 0:\n",
    "            print ('Epoch [{}/{}], Step [{}/{}], Val Loss: {:.4f}, Acc: {:.4f}' \n",
    "                   .format(epoch+1, num_epochs, i+1, val_total_step, loss.item(),100 * correct / total))\n",
    "    lossVal.append(loss.item())\n",
    "    accVal.append(100 * correct/total)"
   ]
  },
  {
   "cell_type": "code",
   "execution_count": 49,
   "metadata": {},
   "outputs": [
    {
     "data": {
      "image/png": "[encoded data removed]",
      "text/plain": [
       "<Figure size 432x288 with 2 Axes>"
      ]
     },
     "metadata": {
      "needs_background": "light"
     },
     "output_type": "display_data"
    }
   ],
   "source": [
    "from matplotlib.ticker import (MultipleLocator)\n",
    "\n",
    "lossVal=np.array(lossVal)\n",
    "lossTr=np.array(lossTr)\n",
    "\n",
    "accVal=np.array(accVal)\n",
    "accTr=np.array(accTr)\n",
    "\n",
    "x=np.arange(1, len(lossVal)+1, 1)\n",
    "fig, ax1=plt.subplots()\n",
    "\n",
    "color='tab:red'\n",
    "ax1.set_ylabel('loss', color=color,fontsize=13)\n",
    "ax1.plot(x,lossVal,color=color)\n",
    "ax1.plot(x,lossTr, color=color,linestyle='dashed')\n",
    "ax1.tick_params(axis='y', labelcolor=color)\n",
    "ax1.xaxis.set_major_locator(MultipleLocator(1))\n",
    "plt.xlabel('epoch', fontsize=13)\n",
    "plt.legend(['(solid) validation', '(dashed) train'], loc='best', handletextpad=0,\n",
    "           handlelength=0, fontsize=13)\n",
    "plt.title('Model loss and accuracy')\n",
    "\n",
    "\n",
    "color='tab:blue'\n",
    "ax2=ax1.twinx()\n",
    "ax2.set_ylabel('Accuracy', color=color, fontsize=13)\n",
    "ax2.plot(x,accVal,color=color)\n",
    "ax2.plot(x,accTr,color=color,linestyle='dashed')\n",
    "ax2.tick_params(axis='y', labelcolor=color)\n",
    "\n",
    "\n",
    "plt.show()"
   ]
  },
  {
   "cell_type": "code",
   "execution_count": 50,
   "metadata": {},
   "outputs": [
    {
     "name": "stdout",
     "output_type": "stream",
     "text": [
      "Test Accuracy of the model on the 1000 test images: 16.0 %\n",
      "[[14  6 10  8  7  3 12  7  5  9]\n",
      " [ 8 27  2  8 13  5  5 14  5 10]\n",
      " [12  4 13  9  5  7  8 11  8  9]\n",
      " [18 19 20 33  9 17 13  9  8 18]\n",
      " [ 3 10  6  3  6  0  4  1  9  4]\n",
      " [ 5  3 10  6  4  4  5  3  5  4]\n",
      " [ 3  4  2  3  7  5  4  4  7  5]\n",
      " [20 21 24 12 25 15 21 28 18 16]\n",
      " [ 8 18 10 13 13  6 13 10 15 10]\n",
      " [16 13  9 11 16  9  9  8 10 16]]\n"
     ]
    }
   ],
   "source": [
    "# Test the model\n",
    "predictions = []\n",
    "expected = []\n",
    "model.eval()  # eval mode (batchnorm uses moving mean/variance instead of mini-batch mean/variance)\n",
    "with torch.no_grad():\n",
    "    correct = 0\n",
    "    total = 0\n",
    "    for i, (images, segs, targets) in enumerate(testloader):\n",
    "        images = images.to(device)\n",
    "        labels = targets.to(device)\n",
    "        images = torch.reshape(images,(batch_size,3,32,32))\n",
    "        outputs = model(images)\n",
    "        _, predicted = torch.max(outputs.data, 1)\n",
    "        total += labels.size(0)\n",
    "        correct += (predicted == labels).sum().item()\n",
    "        predictions += list(predicted)\n",
    "        expected += list(labels)\n",
    "\n",
    "print('Test Accuracy of the model on the 1000 test images: {} %'.format(100 * correct / total))\n",
    "predictions_amax = np.array(predictions)\n",
    "expected_amax = np.array(expected)\n",
    "\n",
    "\n",
    "cfm = confusion_matrix(predictions_amax, expected_amax)\n",
    "print(cfm)"
   ]
  },
  {
   "cell_type": "markdown",
   "metadata": {},
   "source": [
    "### Discussion\n",
    "Based on the results, the classification model performed slightly worse on the 32 x 32 color test set (16.0% accuracy) than the red test set possibly due to overfitting on the training set and also the wide variations in the rgb channels."
   ]
  },
  {
   "cell_type": "code",
   "execution_count": null,
   "metadata": {},
   "outputs": [],
   "source": []
  }
 ],
 "metadata": {
  "kernelspec": {
   "display_name": "Python 3",
   "language": "python",
   "name": "python3"
  },
  "language_info": {
   "codemirror_mode": {
    "name": "ipython",
    "version": 3
   },
   "file_extension": ".py",
   "mimetype": "text/x-python",
   "name": "python",
   "nbconvert_exporter": "python",
   "pygments_lexer": "ipython3",
   "version": "3.6.5"
  }
 },
 "nbformat": 4,
 "nbformat_minor": 2
}
